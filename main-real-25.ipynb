{
 "cells": [
  {
   "cell_type": "code",
   "execution_count": 8,
   "metadata": {},
   "outputs": [],
   "source": [
    "import numpy as np\n",
    "import pandas as pd\n",
    "import random, copy, os\n",
    "random.seed(42)\n",
    "np.random.seed(42)\n",
    "from matplotlib import pyplot as plt\n",
    "from sklearn.preprocessing import MinMaxScaler\n",
    "from multiprocessing import Pool\n",
    "import multiprocessing"
   ]
  },
  {
   "cell_type": "code",
   "execution_count": 9,
   "metadata": {},
   "outputs": [],
   "source": [
    "%run algorithm_functions.ipynb"
   ]
  },
  {
   "cell_type": "code",
   "execution_count": 10,
   "metadata": {},
   "outputs": [],
   "source": [
    "%run helper.ipynb"
   ]
  },
  {
   "cell_type": "code",
   "execution_count": 11,
   "metadata": {},
   "outputs": [],
   "source": [
    "plt.rcParams['font.size'] = 14\n",
    "plt.rcParams['pdf.fonttype'] = 42\n",
    "plt.rcParams['ps.fonttype'] = 42\n",
    "plt.rcParams['axes.labelsize'] = 22\n",
    "plt.rcParams['axes.labelweight'] = 'bold'\n",
    "plt.rcParams['axes.titlesize'] = 19\n",
    "plt.rcParams['axes.linewidth'] = 3\n",
    "plt.rcParams['xtick.labelsize'] = 14\n",
    "plt.rcParams['ytick.labelsize'] = 14\n",
    "plt.rcParams['legend.fontsize'] = 15\n",
    "plt.rcParams['figure.titlesize'] = 22\n",
    "plt.rcParams['lines.linewidth'] = 2.0"
   ]
  },
  {
   "cell_type": "code",
   "execution_count": 12,
   "metadata": {},
   "outputs": [
    {
     "name": "stdout",
     "output_type": "stream",
     "text": [
      "Total number of drivers: 32092, total driver types: 750\n",
      "Total requests: 14486242, types of requests: 8676, total rides: 14486242\n",
      "Driver Types: 83, Total Drivers: 8386\n",
      "Request Types: 686, Total requests: 20701\n"
     ]
    }
   ],
   "source": [
    "%run data_loader.ipynb"
   ]
  },
  {
   "cell_type": "code",
   "execution_count": 13,
   "metadata": {},
   "outputs": [],
   "source": [
    "driver_Bu = 25\n",
    "request_quota = 2\n",
    "filename_append = 'Bu_{}Q_{}'.format(driver_Bu, request_quota)"
   ]
  },
  {
   "cell_type": "markdown",
   "metadata": {},
   "source": [
    "## Load drivers and requests"
   ]
  },
  {
   "cell_type": "code",
   "execution_count": 14,
   "metadata": {},
   "outputs": [
    {
     "name": "stdout",
     "output_type": "stream",
     "text": [
      "Chosen driver types: 80\n",
      "Total number of drivers: 59, Size of set U: 59\n",
      "Chosen types of requests: 137\n",
      "Total Sampled Requests: 2148\n",
      "Initial Number of Requests: 2148.0, size of set V: 137\n",
      "Final Number of Requests: 931.0 1203, size of set V: 134\n",
      "Final Number of Drivers: 1279, size of set U: 57\n"
     ]
    }
   ],
   "source": [
    "drivers, requests = get_drivers_and_requests(driver_Bu, request_quota)"
   ]
  },
  {
   "cell_type": "code",
   "execution_count": 15,
   "metadata": {},
   "outputs": [],
   "source": [
    "# for r in requests:\n",
    "#     print (r.race)\n",
    "# for d in drivers:\n",
    "#     print (d.race, d.quota)"
   ]
  },
  {
   "cell_type": "code",
   "execution_count": 16,
   "metadata": {},
   "outputs": [
    {
     "data": {
      "text/plain": [
       "(57, 134)"
      ]
     },
     "execution_count": 16,
     "metadata": {},
     "output_type": "execute_result"
    }
   ],
   "source": [
    "len(drivers), len(requests)"
   ]
  },
  {
   "cell_type": "markdown",
   "metadata": {},
   "source": [
    "### Construct a matrix containing the edges, matrix = drivers x requests"
   ]
  },
  {
   "cell_type": "code",
   "execution_count": 17,
   "metadata": {},
   "outputs": [],
   "source": [
    "probability_matrix = draw_probability_edges(drivers, requests)\n"
   ]
  },
  {
   "cell_type": "code",
   "execution_count": 18,
   "metadata": {},
   "outputs": [
    {
     "name": "stdout",
     "output_type": "stream",
     "text": [
      "0.55 0.8 0.6343220338983051\n"
     ]
    }
   ],
   "source": [
    "print (np.min(probability_matrix[probability_matrix != -1]), \n",
    "       np.max(probability_matrix[probability_matrix != -1]), \n",
    "       np.mean(probability_matrix[probability_matrix != -1]))\n",
    "for col in range(probability_matrix.shape[1]):\n",
    "    if np.all(probability_matrix[:,col] == -1):\n",
    "        print (requests[col])"
   ]
  },
  {
   "cell_type": "code",
   "execution_count": 19,
   "metadata": {},
   "outputs": [],
   "source": [
    "profit_matrix = np.zeros(probability_matrix.shape)\n",
    "pfwf_matrix = np.zeros(probability_matrix.shape)\n",
    "for i,j in zip(*np.where(probability_matrix != -1)):\n",
    "    if edge_existence_bool(drivers[i], requests[j]) == 0:\n",
    "        profit_matrix[i,j] = requests[j].distance\n",
    "    else:\n",
    "        profit_matrix[i,j] = 0.8 * requests[j].distance\n",
    "    pfwf_matrix[i,j] = probability_matrix[i,j] * profit_matrix[i,j]\n",
    "# print(profit_matrix)\n",
    "# print(pfwf_matrix)"
   ]
  },
  {
   "cell_type": "code",
   "execution_count": 20,
   "metadata": {},
   "outputs": [],
   "source": [
    "# print(probability_matrix[:,8])\n",
    "# print(requests[8])\n",
    "# print(drivers[22])\n",
    "# print(drivers[20])\n",
    "# print(drivers[18])\n",
    "# print(drivers[16])"
   ]
  },
  {
   "cell_type": "code",
   "execution_count": 21,
   "metadata": {},
   "outputs": [],
   "source": [
    "# for r in requests:\n",
    "#     print (profit_matrix[:,r.u_id])"
   ]
  },
  {
   "cell_type": "code",
   "execution_count": 22,
   "metadata": {},
   "outputs": [
    {
     "data": {
      "text/plain": [
       "(1534, 1534, 7638)"
      ]
     },
     "execution_count": 22,
     "metadata": {},
     "output_type": "execute_result"
    }
   ],
   "source": [
    "(np.count_nonzero(probability_matrix != -1), np.count_nonzero(profit_matrix), \n",
    "probability_matrix.shape[0] * probability_matrix.shape[1])"
   ]
  },
  {
   "cell_type": "markdown",
   "metadata": {},
   "source": [
    "## In-degrees of drivers and riders"
   ]
  },
  {
   "cell_type": "code",
   "execution_count": 23,
   "metadata": {},
   "outputs": [
    {
     "name": "stdout",
     "output_type": "stream",
     "text": [
      "Drivers' in-degree, average: 26.912280701754387, min: 4, max: 40\n",
      "Riders' in-degree, average: 11.447761194029852, min: 4, max: 18\n"
     ]
    }
   ],
   "source": [
    "r_vs = []\n",
    "for r in requests:\n",
    "    r_vs.append(r.arrival_rate)\n",
    "min(r_vs), max(r_vs)\n",
    "\n",
    "in_degree_v = []\n",
    "for i in range(len(requests)):\n",
    "    in_degree_v.append(np.count_nonzero(probability_matrix[:,i] != -1))\n",
    "\n",
    "in_degree_u = []\n",
    "for i in range(len(drivers)):\n",
    "    in_degree_u.append(np.count_nonzero(probability_matrix[i,:] != -1))\n",
    "\n",
    "print (\"Drivers' in-degree, average: {}, min: {}, max: {}\\nRiders' in-degree, average: {}, min: {}, max: {}\"\\\n",
    "       .format(np.mean(in_degree_u), min(in_degree_u), max(in_degree_u), \n",
    "               np.mean(in_degree_v), min(in_degree_v), max(in_degree_v)))"
   ]
  },
  {
   "cell_type": "markdown",
   "metadata": {},
   "source": [
    "### We have all variables now, use them to solve the LP"
   ]
  },
  {
   "cell_type": "code",
   "execution_count": 24,
   "metadata": {},
   "outputs": [],
   "source": [
    "from cvxopt.base import matrix as m\n",
    "from cvxopt import solvers\n",
    "from cvxopt.modeling import op, dot, variable, max, min"
   ]
  },
  {
   "cell_type": "code",
   "execution_count": 25,
   "metadata": {},
   "outputs": [],
   "source": [
    "# %run algorithm_functions.ipynb"
   ]
  },
  {
   "cell_type": "code",
   "execution_count": 26,
   "metadata": {},
   "outputs": [],
   "source": [
    "x_f, x_fair = variable(np.count_nonzero(probability_matrix != -1)), \\\n",
    "    variable(np.count_nonzero(probability_matrix != -1))"
   ]
  },
  {
   "cell_type": "code",
   "execution_count": 27,
   "metadata": {},
   "outputs": [],
   "source": [
    "# np.set_printoptions(threshold=10)\n",
    "# print(probability_matrix)\n",
    "# print(coordinate_to_index(1,2,probability_matrix))"
   ]
  },
  {
   "cell_type": "markdown",
   "metadata": {},
   "source": [
    "### Profit Objective"
   ]
  },
  {
   "cell_type": "code",
   "execution_count": 28,
   "metadata": {},
   "outputs": [
    {
     "data": {
      "text/plain": [
       "<linear function of length 1>"
      ]
     },
     "execution_count": 28,
     "metadata": {},
     "output_type": "execute_result"
    }
   ],
   "source": [
    "profit, c = get_profit_objective(x_f, probability_matrix, profit_matrix)\n",
    "profit"
   ]
  },
  {
   "cell_type": "markdown",
   "metadata": {},
   "source": [
    "### Fairness Objective"
   ]
  },
  {
   "cell_type": "code",
   "execution_count": 29,
   "metadata": {},
   "outputs": [],
   "source": [
    "def get_fairness_objective_offpeak_v2(x_fair, probability_matrix, drivers):\n",
    "    # Minimize the negative of the objective function (same as maximizing the objective function)\n",
    "#     all_requests_fairness = []\n",
    "    all_drivers_fairness= []\n",
    "    for i in range(probability_matrix.shape[0]):\n",
    "        mask = [0] * len(x_fair)\n",
    "        for j in np.where(probability_matrix[i,:] != -1)[0]:\n",
    "#             print (len(mask), coordinate_to_index(i, j, probability_matrix), i, j, probability_matrix.shape, len(drivers))\n",
    "            mask[coordinate_to_index(i, j, probability_matrix)] = \\\n",
    "                -1 * (probability_matrix[i, j]/drivers[i].Bu)\n",
    "#         print(len(m(mask)), len(x_fair))\n",
    "        all_drivers_fairness.append(dot(m(mask), x_fair))\n",
    "    \n",
    "    cf = []\n",
    "    for i, j in zip(*np.where(probability_matrix != -1)):\n",
    "        cf.append(-1 * profit_matrix[i,j] * probability_matrix[i,j]) # multiply by -1 since we want to maximise w_f * x_f * p_f but cvxopt minimizes the objective function by default, since minimizing -obj is same as maximizing obj, we multiply our profit objective by a minus sign\n",
    "    assert len(cf) == len(x_fair)\n",
    "    cf = m(cf)\n",
    "    profit_a = dot(cf, x_fair)\n",
    "    \n",
    "    eta = 0.0006\n",
    "    fairness = max(all_drivers_fairness) + eta * profit_a # solver would minimize this\n",
    "    \n",
    "    return fairness"
   ]
  },
  {
   "cell_type": "code",
   "execution_count": 30,
   "metadata": {},
   "outputs": [
    {
     "data": {
      "text/plain": [
       "<convex function of length 1>"
      ]
     },
     "execution_count": 30,
     "metadata": {},
     "output_type": "execute_result"
    }
   ],
   "source": [
    "# fairness = get_fairness_objective(x_fair, probability_matrix, requests)\n",
    "fairness = get_fairness_objective_offpeak_v2(x_fair, probability_matrix, drivers)\n",
    "fairness"
   ]
  },
  {
   "cell_type": "markdown",
   "metadata": {},
   "source": [
    "### Get LP constraints"
   ]
  },
  {
   "cell_type": "code",
   "execution_count": 31,
   "metadata": {},
   "outputs": [
    {
     "name": "stdout",
     "output_type": "stream",
     "text": [
      "3393 3393 1534 1534\n",
      "<class 'cvxopt.modeling._function'>\n"
     ]
    }
   ],
   "source": [
    "inequality = get_inequalities_offpeak(x_f, probability_matrix, drivers, requests)\n",
    "# A,b = get_inequalities_offpeak(x_f, probability_matrix, drivers, requests, True)\n",
    "# print(A * x_f - b)\n",
    "# print(A)\n",
    "# print(type(A*x_f <= b))\n",
    "# print((b))\n",
    "# print(inequality)"
   ]
  },
  {
   "cell_type": "code",
   "execution_count": 32,
   "metadata": {},
   "outputs": [],
   "source": [
    "lp_profit = op(profit, inequality)\n",
    "lp_profit.solve(solver='glpk')"
   ]
  },
  {
   "cell_type": "code",
   "execution_count": 33,
   "metadata": {},
   "outputs": [
    {
     "data": {
      "text/plain": [
       "(14.000000000000004, -1.1614640873001637e-14)"
      ]
     },
     "execution_count": 33,
     "metadata": {},
     "output_type": "execute_result"
    }
   ],
   "source": [
    "max(x_f.value), min(x_f.value)"
   ]
  },
  {
   "cell_type": "code",
   "execution_count": 34,
   "metadata": {},
   "outputs": [
    {
     "name": "stdout",
     "output_type": "stream",
     "text": [
      "3393 3393 1534 1534\n",
      "<class 'cvxopt.modeling._function'>\n"
     ]
    }
   ],
   "source": [
    "inequality_fairness = get_inequalities_offpeak(x_fair, probability_matrix, drivers, requests)"
   ]
  },
  {
   "cell_type": "code",
   "execution_count": 35,
   "metadata": {},
   "outputs": [],
   "source": [
    "lp_fairness = op(fairness, inequality_fairness)\n",
    "lp_fairness.solve(solver='glpk')"
   ]
  },
  {
   "cell_type": "code",
   "execution_count": 36,
   "metadata": {},
   "outputs": [
    {
     "data": {
      "text/plain": [
       "1352.7220279720284"
      ]
     },
     "execution_count": 36,
     "metadata": {},
     "output_type": "execute_result"
    }
   ],
   "source": [
    "sum(x_f.value)"
   ]
  },
  {
   "cell_type": "code",
   "execution_count": 37,
   "metadata": {},
   "outputs": [
    {
     "data": {
      "text/plain": [
       "1370.5795727709794"
      ]
     },
     "execution_count": 37,
     "metadata": {},
     "output_type": "execute_result"
    }
   ],
   "source": [
    "sum(x_fair.value)"
   ]
  },
  {
   "cell_type": "code",
   "execution_count": 38,
   "metadata": {},
   "outputs": [
    {
     "name": "stdout",
     "output_type": "stream",
     "text": [
      "When optimizing for fairness, fairness: 0.49031177770229034, profit: 82.81129617048393\n",
      "When optimizing for profit, fairness: 0.049845475827290334, profit: 83.07579304548392\n"
     ]
    }
   ],
   "source": [
    "# Since we multiplied our objective by -1 and then minimized it\n",
    "optimal_profit = -1 * lp_profit.objective.value()[0]\n",
    "optimal_fairness = -1 * lp_fairness.objective.value()[0]\n",
    "print (\"When optimizing for fairness, fairness: {}, profit: {}\".format(optimal_fairness, \n",
    "                                                                      -1 * dot(c, x_fair).value()[0]))\n",
    "print (\"When optimizing for profit, fairness: {}, profit: {}\".format(\n",
    "    -1 * get_fairness_objective_offpeak_v2(x_f, probability_matrix, drivers).value()[0], optimal_profit))"
   ]
  },
  {
   "cell_type": "code",
   "execution_count": 39,
   "metadata": {},
   "outputs": [],
   "source": [
    "lp_solution_sanity_check(x_f, x_fair, probability_matrix, requests)"
   ]
  },
  {
   "cell_type": "code",
   "execution_count": 40,
   "metadata": {},
   "outputs": [
    {
     "name": "stdout",
     "output_type": "stream",
     "text": [
      "0.0 14.0\n",
      "[19.58806818 39.06293706 10.84615385 12.30769231 18.62937063 14.\n",
      "  6.54851399 34.75426136 45.14772727 10.86713287 65.45454545 33.1640625\n",
      " 26.         24.36363636 52.27272727 20.99431818 17.67089161  9.02308239\n",
      "  4.80397727 12.23076923 48.63636364 19.76740057 14.88636364 16.84615385\n",
      " 26.35866477 12.81818182 17.70629371 23.86860795 31.14950284 13.55769231\n",
      "  6.15384615 62.5        39.63636364 29.81818182 27.27272727 33.89204545\n",
      " 48.58522727 40.3462358  14.82386364 12.41958042  5.          6.77884615\n",
      "  3.46153846  5.98251748 15.2421875  56.54545455 16.50958807  4.61538462\n",
      " 31.27272727 28.40909091  8.69318182 22.         17.40909091 62.72727273\n",
      " 12.71022727 26.15384615 28.29545455]\n",
      "[0.65293561 1.56251748 0.67788462 1.53846154 1.69357915 1.55555556\n",
      " 0.72761267 0.72404711 1.12869318 1.55244755 1.36363636 0.66328125\n",
      " 1.13043478 1.62424242 1.37559809 1.31214489 0.76829964 0.64450588\n",
      " 0.60049716 0.76442308 1.27990431 1.41195718 1.48863636 1.53146853\n",
      " 0.57301445 0.80113636 1.60966306 0.70201788 0.74165483 0.67788462\n",
      " 1.53846154 1.25       1.65151515 1.7540107  1.81818182 1.30354021\n",
      " 1.01219223 0.84054658 0.70589827 1.55244755 1.25       0.67788462\n",
      " 1.15384615 0.74781469 0.6928267  1.22924901 0.63498416 1.53846154\n",
      " 1.56363636 1.57828283 1.44886364 0.6875     0.72537879 1.42561983\n",
      " 0.74766043 1.53846154 1.28615702]\n"
     ]
    }
   ],
   "source": [
    "print (min(x_fair.value), max(x_fair.value))\n",
    "number_probes = np.zeros(probability_matrix.shape)\n",
    "for i in range(len(x_fair)):\n",
    "    number_probes[index_to_coordinate(i, probability_matrix)] += x_fair.value[i]\n",
    "# print(number_probes)\n",
    "expected_probes_optimal = np.sum(number_probes, axis=1)\n",
    "print (expected_probes_optimal)\n",
    "for i in range(len(drivers)):\n",
    "    expected_probes_optimal[i] /= drivers[i].Bu\n",
    "print (expected_probes_optimal)\n",
    "\n",
    "# for d in drivers:\n",
    "#     print(d.Bu)\n",
    "# for r in requests:\n",
    "#     print(r.arrival_rate)\n",
    "# A,b = get_inequalities_offpeak(x_fair, probability_matrix, drivers, requests, True)\n",
    "# print(A*x_fair - b)"
   ]
  },
  {
   "cell_type": "markdown",
   "metadata": {},
   "source": [
    "### From this point on x_f is x* and x_fair is y*"
   ]
  },
  {
   "cell_type": "code",
   "execution_count": 41,
   "metadata": {},
   "outputs": [
    {
     "name": "stdout",
     "output_type": "stream",
     "text": [
      "788\n"
     ]
    }
   ],
   "source": [
    "drivers_copy = [copy.deepcopy(d) for d in drivers] # to avoid overwriting driver values here\n",
    "\n",
    "all_requests = []\n",
    "T = 930\n",
    "num_loops = 1000\n",
    "all_r = calculate_T(requests)\n",
    "p_r = [0] * len(requests)\n",
    "for r in requests:\n",
    "    p_r[r.u_id] = r.arrival_rate/all_r\n",
    "for i in range(num_loops):\n",
    "    all_requests.append(np.random.choice(requests,T,p_r))\n",
    "# print(len(all_requests[0]))\n",
    "# shuffle the requests\n",
    "# all_requests = []\n",
    "# for r in requests:\n",
    "#     all_requests += [r] * int(r.arrival_rate)\n",
    "# random.shuffle(all_requests)\n",
    "\n",
    "\n",
    "# This isn't exactly correct since we need to look at \"expected fairness\"\n",
    "exact_profit, exact_count, exact_matches = run_algorithm(all_requests[0], drivers_copy, probability_matrix, x_f, x_fair,0,1)\n",
    "print(exact_count)\n",
    "# exact_fairness = measure_exact_fairness(all_requests, exact_matches)\n",
    "\n",
    "# print (exact_profit, optimal_profit, exact_count, len(all_requests))\n",
    "# print (\"Competetive Ratio (Profit): {}, Theoretical lower bound: {}\".format(\n",
    "#     exact_profit/optimal_profit, 0.25 * (1-1/np.e)))\n",
    "# print (\"Competetive Ratio (Fairness): {}, Theoretical lower bound: {}\".format(\n",
    "#     exact_fairness/optimal_fairness, 0.25 * (1-1/np.e)))"
   ]
  },
  {
   "cell_type": "code",
   "execution_count": 42,
   "metadata": {},
   "outputs": [],
   "source": [
    "alphas_0_1, alphas, betas = np.arange(0, 1.01, 0.1), np.arange(0., 1.01, 0.1), np.arange(0.,1.01,0.1)"
   ]
  },
  {
   "cell_type": "markdown",
   "metadata": {},
   "source": [
    "## Over all params"
   ]
  },
  {
   "cell_type": "code",
   "execution_count": 43,
   "metadata": {},
   "outputs": [],
   "source": [
    "# matching_results_0_1 = get_matching_results(all_requests, drivers, probability_matrix, \n",
    "#                                             x_f, x_fair, alphas_0_1, num_loops)\n",
    "matching_results = get_matching_results(all_requests, drivers, probability_matrix, \n",
    "                                            x_f, x_fair, alphas, num_loops)"
   ]
  },
  {
   "cell_type": "code",
   "execution_count": 44,
   "metadata": {},
   "outputs": [],
   "source": [
    "# edges_count_results_0_1 = get_edges_count_results(all_requests, matching_results_0_1, requests)\n",
    "edges_count_results = get_edges_count_results(matching_results, drivers)"
   ]
  },
  {
   "cell_type": "code",
   "execution_count": 45,
   "metadata": {},
   "outputs": [
    {
     "data": {
      "text/plain": [
       "11000"
      ]
     },
     "execution_count": 45,
     "metadata": {},
     "output_type": "execute_result"
    }
   ],
   "source": [
    "len(edges_count_results)\n",
    "# len(matching_results)"
   ]
  },
  {
   "cell_type": "code",
   "execution_count": 46,
   "metadata": {},
   "outputs": [
    {
     "data": {
      "text/plain": [
       "(array([0. , 0.1, 0.2, 0.3, 0.4, 0.5, 0.6, 0.7, 0.8, 0.9, 1. ]),\n",
       " array([0. , 0.1, 0.2, 0.3, 0.4, 0.5, 0.6, 0.7, 0.8, 0.9, 1. ]))"
      ]
     },
     "execution_count": 46,
     "metadata": {},
     "output_type": "execute_result"
    }
   ],
   "source": [
    "alphas, alphas_0_1"
   ]
  },
  {
   "cell_type": "code",
   "execution_count": 47,
   "metadata": {},
   "outputs": [
    {
     "name": "stdout",
     "output_type": "stream",
     "text": [
      "0.8403587303478804 0.5533302689514807\n",
      "0.8414332947778006 0.56676448942362\n",
      "0.8420357022487805 0.5672078630365619\n",
      "0.8426105669522042 0.5057221746202818\n",
      "0.842925165490135 0.4404575787952354\n",
      "0.8431703280038804 0.3579355177279891\n",
      "0.8430689412586404 0.29439666842716267\n",
      "0.8432158889050956 0.21603208762281\n",
      "0.8420760446685959 0.15280701041729625\n",
      "0.8414397110978704 0.07083405051684728\n",
      "0.8413774982578603 0.0\n"
     ]
    }
   ],
   "source": [
    "# profit_crs_1, fairness_crs_1 = get_profit_fairness_crs(matching_results_0_1, edges_count_results_0_1, \n",
    "#                                                        num_loops, requests, alphas_0_1, optimal_profit, \n",
    "#                                                        optimal_fairness)\n",
    "# print ()\n",
    "profit_crs, profit_errors, fairness_crs, fairness_errors = get_profit_fairness_crs(matching_results, \n",
    "                        edges_count_results, num_loops, requests, alphas, optimal_profit, optimal_fairness)"
   ]
  },
  {
   "cell_type": "code",
   "execution_count": 48,
   "metadata": {},
   "outputs": [],
   "source": [
    "# print (np.sum(np.array(edges_count_results), axis=0)/num_loops, np.array([r.arrival_rate for r in requests]))\n",
    "# expected_fairness_nadap = (np.sum(np.array(edges_count_results), \n",
    "#                                   axis=0)/num_loops)/np.array([r.arrival_rate for r in requests])\n",
    "# expected_fairness_nadap"
   ]
  },
  {
   "cell_type": "code",
   "execution_count": 49,
   "metadata": {},
   "outputs": [],
   "source": [
    "# expected_probes_optimal"
   ]
  },
  {
   "cell_type": "code",
   "execution_count": 50,
   "metadata": {},
   "outputs": [],
   "source": [
    "# assert np.min(expected_fairness_nadap) * np.e >= optimal_fairness"
   ]
  },
  {
   "cell_type": "code",
   "execution_count": 51,
   "metadata": {},
   "outputs": [
    {
     "data": {
      "image/png": "[encoded data removed]",
      "text/plain": [
       "<Figure size 432x288 with 1 Axes>"
      ]
     },
     "metadata": {
      "needs_background": "light"
     },
     "output_type": "display_data"
    }
   ],
   "source": [
    "plt.plot(alphas, fairness_crs)\n",
    "plt.plot(alphas, [x * (1-1/np.e) / 2 for x in 1-alphas], linestyle=':')\n",
    "plt.plot(alphas, profit_crs)\n",
    "plt.plot(alphas, [x * (1-1/np.e) / 2 for x in alphas], linestyle=':')\n",
    "\n",
    "plt.show()"
   ]
  },
  {
   "cell_type": "code",
   "execution_count": 90,
   "metadata": {},
   "outputs": [],
   "source": [
    "# %run helper.ipynb"
   ]
  },
  {
   "cell_type": "code",
   "execution_count": 91,
   "metadata": {},
   "outputs": [
    {
     "data": {
      "image/png": "[encoded data removed]",
      "text/plain": [
       "<Figure size 432x288 with 1 Axes>"
      ]
     },
     "metadata": {
      "needs_background": "light"
     },
     "output_type": "display_data"
    },
    {
     "data": {
      "text/plain": [
       "<Figure size 216x216 with 0 Axes>"
      ]
     },
     "metadata": {},
     "output_type": "display_data"
    }
   ],
   "source": [
    "plot_lines([fairness_crs, [x * (1-1/np.e) / 2 for x in 1-alphas], profit_crs, [x * (1-1/np.e) / 2 for x in alphas]], \n",
    "           [fairness_errors, [0 for x in alphas], profit_errors, [0 for x in alphas]],\n",
    "            [\"{:.1f}\".format(x) for x in alphas], alphas, \n",
    "           r'$\\beta = 1 - \\alpha; B_u = {}; \\Delta_v = {}$'.format(driver_Bu, request_quota), \n",
    "           r'$\\alpha$', 'Competitive Ratios', ['-', '--', '-', '--'], ['red', 'red', 'blue', 'blue'], \n",
    "            ['WarmUp (fairness)', 'Lower Bound (fairness)', 'WarmUp (profit)', 'Lower Bound (profit)'], \n",
    "            'plots', 'profit_fairness_crs_vs_alpha_{}'.format(filename_append), fmt='pdf', separate_legend=True)"
   ]
  },
  {
   "cell_type": "markdown",
   "metadata": {},
   "source": [
    "## Greedy_P and Greedy_F algorithms"
   ]
  },
  {
   "cell_type": "code",
   "execution_count": 54,
   "metadata": {},
   "outputs": [],
   "source": [
    "# uniform_params, greedy_params = [], []\n",
    "# for i in range(num_loops):\n",
    "#     drivers_copy = [copy.deepcopy(d) for d in drivers]\n",
    "#     uniform_params.append([all_requests, drivers_copy, probability_matrix])\n",
    "# for i in range(num_loops):\n",
    "#     drivers_copy = [copy.deepcopy(d) for d in drivers]\n",
    "#     greedy_params.append([all_requests, drivers_copy, probability_matrix, profit_matrix])\n",
    "greedy_p_params, greedy_f_params = [], []\n",
    "for i in range(num_loops):\n",
    "    drivers_copy = [copy.deepcopy(d) for d in drivers]\n",
    "    greedy_p_params.append([all_requests[i], drivers_copy, probability_matrix, profit_matrix])\n",
    "for i in range(num_loops):\n",
    "    drivers_copy = [copy.deepcopy(d) for d in drivers]\n",
    "    greedy_f_params.append([all_requests[i], drivers_copy, probability_matrix])"
   ]
  },
  {
   "cell_type": "code",
   "execution_count": 55,
   "metadata": {},
   "outputs": [],
   "source": [
    "def run_greedy_p(all_requests, drivers_copy, probability_matrix, profit_matrix):\n",
    "    matches, profit = [], 0\n",
    "#     random.shuffle(all_requests)\n",
    "    for request in all_requests:\n",
    "        available_drivers, profits = [], []\n",
    "        for idx in np.where(probability_matrix[:,request.u_id] != -1)[0]:\n",
    "            assert drivers_copy[idx].u_id == idx\n",
    "            if drivers_copy[idx].Bu > 0:\n",
    "                available_drivers.append(drivers_copy[idx])\n",
    "                assert probability_matrix[idx, request.u_id] != -1\n",
    "                profits.append(pfwf_matrix[idx, request.u_id])\n",
    "        if len(available_drivers) == 0:\n",
    "            assigned_driver = None\n",
    "        else:\n",
    "#             for i in range(1):\n",
    "            for i in range(request.quota):\n",
    "                driver_index = np.argmax(profits)\n",
    "                driver = available_drivers[driver_index]\n",
    "                p_f = probability_matrix[driver.u_id, request.u_id]\n",
    "                decision = np.random.choice(np.arange(2), size=1, p=[p_f, 1-p_f])[0]\n",
    "                if decision == 0: # user accepted the trip\n",
    "    #                 print (\"User {} accepted driver {}!\".format(request.u_id, driver.u_id))\n",
    "                    driver.Bu -= 1\n",
    "                    assigned_driver = driver\n",
    "                    break\n",
    "                else:\n",
    "                    profits[driver_index] = -1\n",
    "                    assigned_driver = None\n",
    "        matches.append(assigned_driver)\n",
    "        if assigned_driver is not None:\n",
    "            if (abs(assigned_driver.latitude-request.start_latitude)+abs(assigned_driver.longitude-request.start_longitude)) == 0:\n",
    "                profit += request.distance\n",
    "            else:\n",
    "                profit += 0.8 * request.distance\n",
    "    return matches, profit"
   ]
  },
  {
   "cell_type": "code",
   "execution_count": 56,
   "metadata": {},
   "outputs": [],
   "source": [
    "def run_greedy_f(all_requests, drivers_copy, probability_matrix):\n",
    "    matches, profit = [], 0\n",
    "#     random.shuffle(all_requests)\n",
    "    for request in all_requests:\n",
    "        available_drivers, already_matches = [], []\n",
    "        for idx in np.where(probability_matrix[:,request.u_id] != -1)[0]:\n",
    "            assert drivers_copy[idx].u_id == idx\n",
    "            if drivers_copy[idx].Bu > 0:\n",
    "                available_drivers.append(drivers_copy[idx])\n",
    "                assert probability_matrix[idx, request.u_id] != -1\n",
    "#                 already_matches.append(drivers[idx].Bu - drivers_copy[idx].Bu)\n",
    "                # change to ratio\n",
    "                already_matches.append((drivers[idx].Bu - drivers_copy[idx].Bu) / drivers[idx].Bu)\n",
    "#                 profits.append(profit_matrix[idx, request.u_id])\n",
    "        if len(available_drivers) == 0:\n",
    "            assigned_driver = None\n",
    "        else:\n",
    "#             for i in range(1):\n",
    "            for i in range(request.quota):\n",
    "                driver_index = np.argmin(already_matches)\n",
    "                driver = available_drivers[driver_index]\n",
    "                p_f = probability_matrix[driver.u_id, request.u_id]\n",
    "                decision = np.random.choice(np.arange(2), size=1, p=[p_f, 1-p_f])[0]\n",
    "                if decision == 0: # user accepted the trip\n",
    "    #                 print (\"User {} accepted driver {}!\".format(request.u_id, driver.u_id))\n",
    "                    driver.Bu -= 1\n",
    "                    assigned_driver = driver\n",
    "                    break\n",
    "                else:\n",
    "                    already_matches[driver_index] = 2\n",
    "                    assigned_driver = None\n",
    "        matches.append(assigned_driver)\n",
    "        if assigned_driver is not None:\n",
    "            if (abs(assigned_driver.latitude-request.start_latitude)+abs(assigned_driver.longitude-request.start_longitude)) == 0:\n",
    "                profit += request.distance\n",
    "            else:\n",
    "                profit += 0.8 * request.distance\n",
    "#     ss = 0\n",
    "#     for m in matches:\n",
    "#         if m != None:\n",
    "#             ss += 1\n",
    "#     print(ss)\n",
    "    return matches, profit"
   ]
  },
  {
   "cell_type": "code",
   "execution_count": 57,
   "metadata": {},
   "outputs": [],
   "source": [
    "with Pool(multiprocessing.cpu_count()) as p:\n",
    "    greedy_p_results = p.starmap(run_greedy_p, greedy_p_params)"
   ]
  },
  {
   "cell_type": "code",
   "execution_count": 58,
   "metadata": {},
   "outputs": [],
   "source": [
    "with Pool(multiprocessing.cpu_count()) as p:\n",
    "    greedy_f_results = p.starmap(run_greedy_f, greedy_f_params)"
   ]
  },
  {
   "cell_type": "code",
   "execution_count": 59,
   "metadata": {},
   "outputs": [
    {
     "data": {
      "text/plain": [
       "0.8870485020449078"
      ]
     },
     "execution_count": 59,
     "metadata": {},
     "output_type": "execute_result"
    }
   ],
   "source": [
    "greedy_p_profit = 0\n",
    "for res in greedy_p_results:\n",
    "    greedy_p_profit += res[1]\n",
    "greedy_p_profit /= num_loops\n",
    "greedy_p_profit_cr = greedy_p_profit/optimal_profit\n",
    "greedy_p_profit_cr"
   ]
  },
  {
   "cell_type": "code",
   "execution_count": 60,
   "metadata": {},
   "outputs": [],
   "source": [
    "greedy_p_fairness_measure_params = []\n",
    "for i in range(num_loops):\n",
    "    greedy_p_fairness_measure_params.append([greedy_p_results[i][0], drivers])\n",
    "\n",
    "with Pool(multiprocessing.cpu_count()) as p:\n",
    "    greedy_p_edges_count_results = p.starmap(measure_fairness_edges_count, greedy_p_fairness_measure_params)"
   ]
  },
  {
   "cell_type": "code",
   "execution_count": 61,
   "metadata": {},
   "outputs": [
    {
     "data": {
      "text/plain": [
       "0.03882929679494951"
      ]
     },
     "execution_count": 61,
     "metadata": {},
     "output_type": "execute_result"
    }
   ],
   "source": [
    "greedy_p_fairness_cr = calculate_fairness_from_array(greedy_p_edges_count_results, \n",
    "                                                   num_loops, drivers)/optimal_fairness\n",
    "greedy_p_fairness_cr"
   ]
  },
  {
   "cell_type": "code",
   "execution_count": 62,
   "metadata": {},
   "outputs": [
    {
     "name": "stdout",
     "output_type": "stream",
     "text": [
      "0.7714369390680889\n",
      "0.8829840923439389\n"
     ]
    }
   ],
   "source": [
    "greedy_f_profit = 0\n",
    "for res in greedy_f_results:\n",
    "    greedy_f_profit += res[1]\n",
    "greedy_f_profit /= num_loops\n",
    "greedy_f_profit_cr = greedy_f_profit/optimal_profit\n",
    "print(greedy_f_profit_cr)\n",
    "greedy_f_fairness_measure_params = []\n",
    "for i in range(num_loops):\n",
    "    greedy_f_fairness_measure_params.append([greedy_f_results[i][0], drivers])\n",
    "\n",
    "with Pool(multiprocessing.cpu_count()) as p:\n",
    "    greedy_f_edges_count_results = p.starmap(measure_fairness_edges_count, greedy_f_fairness_measure_params)\n",
    "    \n",
    "greedy_f_fairness_cr = calculate_fairness_from_array(greedy_f_edges_count_results, \n",
    "                                                   num_loops, drivers)/optimal_fairness\n",
    "print(greedy_f_fairness_cr)"
   ]
  },
  {
   "cell_type": "code",
   "execution_count": 88,
   "metadata": {},
   "outputs": [],
   "source": [
    "def create_dir(dir_path):\n",
    "    if not os.path.exists(dir_path):\n",
    "        os.mkdir(dir_path)\n",
    "\n",
    "def plot_scatter(all_x_vals, all_y_vals, colors, shapes, annotations, annotation_positions, plot_title, \n",
    "                 x_title, y_title, subfolder, filename, labels, separate_legend=False, fmt='png'):\n",
    "    if isinstance(annotations[0], int) or isinstance(annotations[0], float):\n",
    "        annotations = list(map(str, annotations))\n",
    "    fig = plt.figure()\n",
    "    ax = fig.add_subplot(111)\n",
    "#     ax.set_title(plot_title)\n",
    "    ax.set_xlabel(x_title)\n",
    "    ax.set_ylabel(y_title)\n",
    "    ax.grid()\n",
    "    for i, (x_vals, y_vals) in enumerate(zip(all_x_vals, all_y_vals)):\n",
    "        ax.scatter(x_vals, y_vals, s=64, c=colors[i], marker=shapes[i], label=labels[i])\n",
    "    flattened_x_vals, flattened_y_vals = [], []\n",
    "    for x_vals in all_x_vals:\n",
    "        for x in x_vals:\n",
    "            flattened_x_vals.append(x)\n",
    "    for y_vals in all_y_vals:\n",
    "        for y in y_vals:\n",
    "            flattened_y_vals.append(y)\n",
    "    arrowprops = dict(arrowstyle = \"->\")\n",
    "    for i, txt in enumerate(annotations):\n",
    "        if txt != '':\n",
    "            if i == 0:\n",
    "                ax.annotate(txt, xytext=(20,-50), textcoords=\"offset pixels\", xy=(flattened_x_vals[i], flattened_y_vals[i]), ha='right', arrowprops=arrowprops) \n",
    "            elif i == 7:\n",
    "                ax.annotate(txt, xytext=(0,-30), textcoords=\"offset pixels\", xy=(flattened_x_vals[i], flattened_y_vals[i]), ha='right', arrowprops=arrowprops) \n",
    "            elif i == 10:\n",
    "                ax.annotate(txt, xytext=(50,30), textcoords=\"offset pixels\", xy=(flattened_x_vals[i], flattened_y_vals[i]), ha='right', arrowprops=arrowprops)\n",
    "            else:\n",
    "                ax.annotate(txt, xytext=(0,40), textcoords=\"offset pixels\", xy=(flattened_x_vals[i], flattened_y_vals[i]), ha='right', arrowprops=arrowprops)\n",
    "    create_dir('{}'.format(subfolder))\n",
    "    \n",
    "    if not separate_legend:\n",
    "        box = ax.get_position()\n",
    "#         ax.set_position([box.x0, box.y0, box.width * 0.8, box.height])\n",
    "        ax.legend(loc='best')\n",
    "    else:\n",
    "        fig_legend = plt.figure(figsize=(3, 3))\n",
    "        handles, labels = ax.get_legend_handles_labels()\n",
    "        fig_legend.legend(handles, labels, 'center', ncol=1)\n",
    "        fig_legend.savefig('{}/{}_legend.{}'.format(subfolder, filename, fmt), \n",
    "                           bbox_inches='tight')\n",
    "    \n",
    "    fig.savefig('{}/{}.{}'.format(subfolder, filename, fmt), bbox_inches='tight')\n",
    "    plt.show()\n",
    "    plt.close()"
   ]
  },
  {
   "cell_type": "code",
   "execution_count": 89,
   "metadata": {},
   "outputs": [
    {
     "data": {
      "image/png": "[encoded data removed]",
      "text/plain": [
       "<Figure size 432x288 with 1 Axes>"
      ]
     },
     "metadata": {
      "needs_background": "light"
     },
     "output_type": "display_data"
    },
    {
     "data": {
      "text/plain": [
       "<Figure size 216x216 with 0 Axes>"
      ]
     },
     "metadata": {},
     "output_type": "display_data"
    }
   ],
   "source": [
    "all_x_vals = [fairness_crs , [greedy_p_fairness_cr], [greedy_f_fairness_cr]]\n",
    "all_y_vals = [profit_crs, [greedy_p_profit_cr], [greedy_f_profit_cr]]\n",
    "labels = [r'$WarmUp (\\alpha, \\beta)$', 'Greedy_P', 'Greedy_F']\n",
    "# annotations = ['({:.1f}, {:.1f})'.format(alphas[i], 1-alphas[i]) for i in range(len(alphas))] + ['', '']\n",
    "annotations = ['({:.1f}, {:.1f})'.format(alphas[i], 1-alphas[i]) if alphas[i] == 0.0 or alphas[i] == 1.0 or \\\n",
    "               i == np.argmin(fairness_crs) or i == np.argmax(fairness_crs) or i == np.argmin(profit_crs) or \\\n",
    "               i == np.argmax(profit_crs) else '' for i in range(len(alphas))] + ['', '']\n",
    "annotation_positions = [(fairness_crs[i], \n",
    "                         profit_crs[i]) for i in range(len(alphas))]\n",
    "# print(annotation_positions)\n",
    "colors = ['blue', 'red', 'green']\n",
    "shapes = ['o', 'X', 'D']\n",
    "plot_scatter(all_x_vals, all_y_vals, colors, shapes, annotations, annotation_positions,\n",
    "             r'$B_u = {}; \\Delta_v = {}$'.format(driver_Bu,request_quota), \n",
    "             'Fairness CR', 'Profit CR', 'plots', 'fairness_vs_profit_cr_scatter_{}'.format(filename_append),\n",
    "            labels=labels, fmt='pdf', separate_legend=True)"
   ]
  },
  {
   "cell_type": "code",
   "execution_count": 65,
   "metadata": {},
   "outputs": [],
   "source": [
    "# calculate_T(requests)"
   ]
  },
  {
   "cell_type": "code",
   "execution_count": 66,
   "metadata": {},
   "outputs": [
    {
     "name": "stdout",
     "output_type": "stream",
     "text": [
      "0.8403587303478804\n",
      "0.8414332947778006\n",
      "0.8420357022487805\n",
      "0.8426105669522042\n",
      "0.842925165490135\n",
      "0.8431703280038804\n",
      "0.8430689412586404\n",
      "0.8432158889050956\n",
      "0.8420760446685959\n",
      "0.8414397110978704\n",
      "0.8413774982578603\n",
      "0.8870485020449078\n",
      "0.7714369390680889\n"
     ]
    }
   ],
   "source": [
    "for i in profit_crs:\n",
    "    print(i)\n",
    "print(greedy_p_profit_cr)\n",
    "print(greedy_f_profit_cr)"
   ]
  },
  {
   "cell_type": "code",
   "execution_count": 67,
   "metadata": {},
   "outputs": [
    {
     "name": "stdout",
     "output_type": "stream",
     "text": [
      "0.5533302689514807\n",
      "0.56676448942362\n",
      "0.5672078630365619\n",
      "0.5057221746202818\n",
      "0.4404575787952354\n",
      "0.3579355177279891\n",
      "0.29439666842716267\n",
      "0.21603208762281\n",
      "0.15280701041729625\n",
      "0.07083405051684728\n",
      "0.0\n",
      "0.03882929679494951\n",
      "0.8829840923439389\n"
     ]
    }
   ],
   "source": [
    "for i in fairness_crs:\n",
    "    print(i)\n",
    "print(greedy_p_fairness_cr)\n",
    "print(greedy_f_fairness_cr)"
   ]
  },
  {
   "cell_type": "code",
   "execution_count": null,
   "metadata": {},
   "outputs": [],
   "source": []
  },
  {
   "cell_type": "code",
   "execution_count": null,
   "metadata": {},
   "outputs": [],
   "source": []
  }
 ],
 "metadata": {
  "kernelspec": {
   "display_name": "Python 3",
   "language": "python",
   "name": "python3"
  },
  "language_info": {
   "codemirror_mode": {
    "name": "ipython",
    "version": 3
   },
   "file_extension": ".py",
   "mimetype": "text/x-python",
   "name": "python",
   "nbconvert_exporter": "python",
   "pygments_lexer": "ipython3",
   "version": "3.6.8"
  }
 },
 "nbformat": 4,
 "nbformat_minor": 2
}
