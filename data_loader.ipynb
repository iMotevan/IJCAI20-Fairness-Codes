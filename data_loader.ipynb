{
 "cells": [
  {
   "cell_type": "code",
   "execution_count": 37,
   "metadata": {},
   "outputs": [],
   "source": [
    "import numpy as np\n",
    "import pandas as pd\n",
    "import random, copy, os\n",
    "from matplotlib import pyplot as plt\n",
    "from sklearn.preprocessing import MinMaxScaler\n",
    "from multiprocessing import Pool\n",
    "import multiprocessing\n",
    "%run algorithm_functions.ipynb\n",
    "\n",
    "from cvxopt.base import matrix as m\n",
    "from cvxopt import solvers\n",
    "from cvxopt.modeling import op, dot, variable, max, min"
   ]
  },
  {
   "cell_type": "markdown",
   "metadata": {},
   "source": [
    "## Prepare Data"
   ]
  },
  {
   "cell_type": "code",
   "execution_count": 38,
   "metadata": {},
   "outputs": [
    {
     "data": {
      "text/html": [
       "<div>\n",
       "<style scoped>\n",
       "    .dataframe tbody tr th:only-of-type {\n",
       "        vertical-align: middle;\n",
       "    }\n",
       "\n",
       "    .dataframe tbody tr th {\n",
       "        vertical-align: top;\n",
       "    }\n",
       "\n",
       "    .dataframe thead th {\n",
       "        text-align: right;\n",
       "    }\n",
       "</style>\n",
       "<table border=\"1\" class=\"dataframe\">\n",
       "  <thead>\n",
       "    <tr style=\"text-align: right;\">\n",
       "      <th></th>\n",
       "      <th>medallion</th>\n",
       "      <th>hack_license</th>\n",
       "      <th>pickup_datetime</th>\n",
       "      <th>dropoff_datetime</th>\n",
       "      <th>trip_time_in_secs</th>\n",
       "      <th>trip_distance</th>\n",
       "      <th>pickup_longitude</th>\n",
       "      <th>pickup_latitude</th>\n",
       "      <th>dropoff_longitude</th>\n",
       "      <th>dropoff_latitude</th>\n",
       "      <th>driver_race</th>\n",
       "      <th>driver_gender</th>\n",
       "      <th>requests_gender</th>\n",
       "      <th>requests_race</th>\n",
       "      <th>pickup_lat_bin</th>\n",
       "      <th>pickup_long_bin</th>\n",
       "      <th>dropoff_lat_bin</th>\n",
       "      <th>dropoff_long_bin</th>\n",
       "    </tr>\n",
       "  </thead>\n",
       "  <tbody>\n",
       "    <tr>\n",
       "      <th>0</th>\n",
       "      <td>89D227B655E5C82AECF13C3F540D4CF4</td>\n",
       "      <td>BA96DE419E711691B9445D6A6307C170</td>\n",
       "      <td>2013-01-01 15:11:48</td>\n",
       "      <td>2013-01-01 15:18:10</td>\n",
       "      <td>382</td>\n",
       "      <td>1.0</td>\n",
       "      <td>-73.978165</td>\n",
       "      <td>40.757977</td>\n",
       "      <td>-73.989838</td>\n",
       "      <td>40.751171</td>\n",
       "      <td>black</td>\n",
       "      <td>m</td>\n",
       "      <td>f</td>\n",
       "      <td>black</td>\n",
       "      <td>7</td>\n",
       "      <td>20</td>\n",
       "      <td>7</td>\n",
       "      <td>19</td>\n",
       "    </tr>\n",
       "    <tr>\n",
       "      <th>1</th>\n",
       "      <td>0BD7C8F5BA12B88E0B67BED28BEA73D8</td>\n",
       "      <td>9FD8F69F0804BDB5549F40E9DA1BE472</td>\n",
       "      <td>2013-01-06 00:18:35</td>\n",
       "      <td>2013-01-06 00:22:54</td>\n",
       "      <td>259</td>\n",
       "      <td>1.5</td>\n",
       "      <td>-74.006683</td>\n",
       "      <td>40.731781</td>\n",
       "      <td>-73.994499</td>\n",
       "      <td>40.750660</td>\n",
       "      <td>black</td>\n",
       "      <td>m</td>\n",
       "      <td>f</td>\n",
       "      <td>black</td>\n",
       "      <td>6</td>\n",
       "      <td>19</td>\n",
       "      <td>7</td>\n",
       "      <td>19</td>\n",
       "    </tr>\n",
       "    <tr>\n",
       "      <th>2</th>\n",
       "      <td>0BD7C8F5BA12B88E0B67BED28BEA73D8</td>\n",
       "      <td>9FD8F69F0804BDB5549F40E9DA1BE472</td>\n",
       "      <td>2013-01-05 18:49:41</td>\n",
       "      <td>2013-01-05 18:54:23</td>\n",
       "      <td>282</td>\n",
       "      <td>1.1</td>\n",
       "      <td>-74.004707</td>\n",
       "      <td>40.737770</td>\n",
       "      <td>-74.009834</td>\n",
       "      <td>40.726002</td>\n",
       "      <td>black</td>\n",
       "      <td>m</td>\n",
       "      <td>f</td>\n",
       "      <td>black</td>\n",
       "      <td>6</td>\n",
       "      <td>19</td>\n",
       "      <td>6</td>\n",
       "      <td>19</td>\n",
       "    </tr>\n",
       "    <tr>\n",
       "      <th>3</th>\n",
       "      <td>DFD2202EE08F7A8DC9A57B02ACB81FE2</td>\n",
       "      <td>51EE87E3205C985EF8431D850C786310</td>\n",
       "      <td>2013-01-07 23:54:15</td>\n",
       "      <td>2013-01-07 23:58:20</td>\n",
       "      <td>244</td>\n",
       "      <td>0.7</td>\n",
       "      <td>-73.974602</td>\n",
       "      <td>40.759945</td>\n",
       "      <td>-73.984734</td>\n",
       "      <td>40.759388</td>\n",
       "      <td>black</td>\n",
       "      <td>m</td>\n",
       "      <td>m</td>\n",
       "      <td>black</td>\n",
       "      <td>7</td>\n",
       "      <td>20</td>\n",
       "      <td>7</td>\n",
       "      <td>19</td>\n",
       "    </tr>\n",
       "    <tr>\n",
       "      <th>4</th>\n",
       "      <td>DFD2202EE08F7A8DC9A57B02ACB81FE2</td>\n",
       "      <td>51EE87E3205C985EF8431D850C786310</td>\n",
       "      <td>2013-01-07 23:25:03</td>\n",
       "      <td>2013-01-07 23:34:24</td>\n",
       "      <td>560</td>\n",
       "      <td>2.1</td>\n",
       "      <td>-73.976250</td>\n",
       "      <td>40.748528</td>\n",
       "      <td>-74.002586</td>\n",
       "      <td>40.747868</td>\n",
       "      <td>black</td>\n",
       "      <td>m</td>\n",
       "      <td>m</td>\n",
       "      <td>black</td>\n",
       "      <td>6</td>\n",
       "      <td>20</td>\n",
       "      <td>6</td>\n",
       "      <td>19</td>\n",
       "    </tr>\n",
       "  </tbody>\n",
       "</table>\n",
       "</div>"
      ],
      "text/plain": [
       "                          medallion                      hack_license  \\\n",
       "0  89D227B655E5C82AECF13C3F540D4CF4  BA96DE419E711691B9445D6A6307C170   \n",
       "1  0BD7C8F5BA12B88E0B67BED28BEA73D8  9FD8F69F0804BDB5549F40E9DA1BE472   \n",
       "2  0BD7C8F5BA12B88E0B67BED28BEA73D8  9FD8F69F0804BDB5549F40E9DA1BE472   \n",
       "3  DFD2202EE08F7A8DC9A57B02ACB81FE2  51EE87E3205C985EF8431D850C786310   \n",
       "4  DFD2202EE08F7A8DC9A57B02ACB81FE2  51EE87E3205C985EF8431D850C786310   \n",
       "\n",
       "       pickup_datetime     dropoff_datetime  trip_time_in_secs  trip_distance  \\\n",
       "0  2013-01-01 15:11:48  2013-01-01 15:18:10                382            1.0   \n",
       "1  2013-01-06 00:18:35  2013-01-06 00:22:54                259            1.5   \n",
       "2  2013-01-05 18:49:41  2013-01-05 18:54:23                282            1.1   \n",
       "3  2013-01-07 23:54:15  2013-01-07 23:58:20                244            0.7   \n",
       "4  2013-01-07 23:25:03  2013-01-07 23:34:24                560            2.1   \n",
       "\n",
       "   pickup_longitude  pickup_latitude  dropoff_longitude  dropoff_latitude  \\\n",
       "0        -73.978165        40.757977         -73.989838         40.751171   \n",
       "1        -74.006683        40.731781         -73.994499         40.750660   \n",
       "2        -74.004707        40.737770         -74.009834         40.726002   \n",
       "3        -73.974602        40.759945         -73.984734         40.759388   \n",
       "4        -73.976250        40.748528         -74.002586         40.747868   \n",
       "\n",
       "  driver_race driver_gender requests_gender requests_race  pickup_lat_bin  \\\n",
       "0       black             m               f         black               7   \n",
       "1       black             m               f         black               6   \n",
       "2       black             m               f         black               6   \n",
       "3       black             m               m         black               7   \n",
       "4       black             m               m         black               6   \n",
       "\n",
       "   pickup_long_bin  dropoff_lat_bin  dropoff_long_bin  \n",
       "0               20                7                19  \n",
       "1               19                7                19  \n",
       "2               19                6                19  \n",
       "3               20                7                19  \n",
       "4               20                6                19  "
      ]
     },
     "execution_count": 38,
     "metadata": {},
     "output_type": "execute_result"
    }
   ],
   "source": [
    "df = pd.read_csv('trip_data_1_filtered.csv')\n",
    "df.head()"
   ]
  },
  {
   "cell_type": "code",
   "execution_count": 39,
   "metadata": {},
   "outputs": [],
   "source": [
    "df['pickup_datetime'] = pd.to_datetime(df['pickup_datetime'])\n",
    "df['dropoff_datetime'] = pd.to_datetime(df['dropoff_datetime'])"
   ]
  },
  {
   "cell_type": "code",
   "execution_count": 40,
   "metadata": {},
   "outputs": [],
   "source": [
    "s = MinMaxScaler() # scaling distances such that all values are [0,1]\n",
    "df['trip_distance'] = s.fit_transform(df['trip_distance'].values.reshape(-1, 1))"
   ]
  },
  {
   "cell_type": "code",
   "execution_count": 41,
   "metadata": {},
   "outputs": [],
   "source": [
    "min_latitude = min(np.min(df['pickup_latitude']), np.min(df['dropoff_latitude']))\n",
    "max_latitude = max(np.max(df['pickup_latitude']), np.max(df['dropoff_latitude']))\n",
    "min_longitude = min(np.min(df['pickup_longitude']), np.min(df['dropoff_longitude']))\n",
    "max_longitude = max(np.max(df['pickup_longitude']), np.max(df['dropoff_longitude']))"
   ]
  },
  {
   "cell_type": "code",
   "execution_count": 42,
   "metadata": {},
   "outputs": [
    {
     "data": {
      "text/plain": [
       "(-74.98333000000002, -73.011703, 40.400002, 40.999813)"
      ]
     },
     "execution_count": 42,
     "metadata": {},
     "output_type": "execute_result"
    }
   ],
   "source": [
    "min_longitude, max_longitude, min_latitude, max_latitude"
   ]
  },
  {
   "cell_type": "code",
   "execution_count": 43,
   "metadata": {},
   "outputs": [],
   "source": [
    "requests_features = ['pickup_lat_bin', 'pickup_long_bin', 'dropoff_lat_bin', 'dropoff_long_bin', \n",
    "                     'requests_gender', 'requests_race']\n",
    "# requests_features = ['pickup_lat_bin', 'pickup_long_bin', 'dropoff_lat_bin', 'dropoff_long_bin']\n",
    "driver_features = ['driver_race', 'driver_gender', 'pickup_lat_bin', 'pickup_long_bin']"
   ]
  },
  {
   "cell_type": "markdown",
   "metadata": {},
   "source": [
    "###### Total number of drivers and types of drivers"
   ]
  },
  {
   "cell_type": "code",
   "execution_count": 44,
   "metadata": {},
   "outputs": [
    {
     "name": "stdout",
     "output_type": "stream",
     "text": [
      "Total number of drivers: 32092, total driver types: 750\n"
     ]
    }
   ],
   "source": [
    "all_driver_types = df.groupby(driver_features)['driver_gender'].agg('count')\n",
    "print (\"Total number of drivers: {}, total driver types: {}\".format(len(set(list(df['hack_license']))), \n",
    "                                                                    len(all_driver_types)))"
   ]
  },
  {
   "cell_type": "markdown",
   "metadata": {},
   "source": [
    "###### Total number and types of requests"
   ]
  },
  {
   "cell_type": "code",
   "execution_count": 45,
   "metadata": {},
   "outputs": [
    {
     "name": "stdout",
     "output_type": "stream",
     "text": [
      "Total requests: 14486242, types of requests: 8676, total rides: 14486242\n"
     ]
    }
   ],
   "source": [
    "all_request_types = df.groupby(requests_features)['requests_gender'].agg('count')\n",
    "print (\"Total requests: {}, types of requests: {}, total rides: {}\".format(all_request_types.sum(), \n",
    "                                                                           len(all_request_types),\n",
    "                                                                           len(df)))"
   ]
  },
  {
   "cell_type": "code",
   "execution_count": 46,
   "metadata": {},
   "outputs": [],
   "source": [
    "peak_hour = 16\n",
    "peak_day = 31"
   ]
  },
  {
   "cell_type": "code",
   "execution_count": 47,
   "metadata": {},
   "outputs": [
    {
     "data": {
      "text/html": [
       "<div>\n",
       "<style scoped>\n",
       "    .dataframe tbody tr th:only-of-type {\n",
       "        vertical-align: middle;\n",
       "    }\n",
       "\n",
       "    .dataframe tbody tr th {\n",
       "        vertical-align: top;\n",
       "    }\n",
       "\n",
       "    .dataframe thead th {\n",
       "        text-align: right;\n",
       "    }\n",
       "</style>\n",
       "<table border=\"1\" class=\"dataframe\">\n",
       "  <thead>\n",
       "    <tr style=\"text-align: right;\">\n",
       "      <th></th>\n",
       "      <th>medallion</th>\n",
       "      <th>hack_license</th>\n",
       "      <th>pickup_datetime</th>\n",
       "      <th>dropoff_datetime</th>\n",
       "      <th>trip_time_in_secs</th>\n",
       "      <th>trip_distance</th>\n",
       "      <th>pickup_longitude</th>\n",
       "      <th>pickup_latitude</th>\n",
       "      <th>dropoff_longitude</th>\n",
       "      <th>dropoff_latitude</th>\n",
       "      <th>driver_race</th>\n",
       "      <th>driver_gender</th>\n",
       "      <th>requests_gender</th>\n",
       "      <th>requests_race</th>\n",
       "      <th>pickup_lat_bin</th>\n",
       "      <th>pickup_long_bin</th>\n",
       "      <th>dropoff_lat_bin</th>\n",
       "      <th>dropoff_long_bin</th>\n",
       "    </tr>\n",
       "  </thead>\n",
       "  <tbody>\n",
       "    <tr>\n",
       "      <th>7859875</th>\n",
       "      <td>4D3DDD6973BACE91587C7CD79983BC4F</td>\n",
       "      <td>386CB62371C5CED8205E5C51E2E3BBDD</td>\n",
       "      <td>2013-01-31 16:59:00</td>\n",
       "      <td>2013-01-31 17:13:00</td>\n",
       "      <td>840</td>\n",
       "      <td>0.0245</td>\n",
       "      <td>-73.885246</td>\n",
       "      <td>40.773052</td>\n",
       "      <td>-73.913620</td>\n",
       "      <td>40.768368</td>\n",
       "      <td>black</td>\n",
       "      <td>m</td>\n",
       "      <td>f</td>\n",
       "      <td>black</td>\n",
       "      <td>7</td>\n",
       "      <td>21</td>\n",
       "      <td>7</td>\n",
       "      <td>21</td>\n",
       "    </tr>\n",
       "    <tr>\n",
       "      <th>7934562</th>\n",
       "      <td>03A23771C873D52AD9FA0B22CEB1B0FB</td>\n",
       "      <td>5B6CCC2D5ECDF7A3D5C3CA74DB82038B</td>\n",
       "      <td>2013-01-31 16:34:54</td>\n",
       "      <td>2013-01-31 16:41:29</td>\n",
       "      <td>394</td>\n",
       "      <td>0.0110</td>\n",
       "      <td>-73.992783</td>\n",
       "      <td>40.742748</td>\n",
       "      <td>-74.004730</td>\n",
       "      <td>40.741692</td>\n",
       "      <td>black</td>\n",
       "      <td>m</td>\n",
       "      <td>m</td>\n",
       "      <td>white</td>\n",
       "      <td>6</td>\n",
       "      <td>19</td>\n",
       "      <td>6</td>\n",
       "      <td>19</td>\n",
       "    </tr>\n",
       "    <tr>\n",
       "      <th>7935512</th>\n",
       "      <td>311518AFA6CB5DF4A6544D3BE4B04DBE</td>\n",
       "      <td>884E2B8E2B46991E9314D2119B8DDD20</td>\n",
       "      <td>2013-01-31 16:22:48</td>\n",
       "      <td>2013-01-31 16:32:45</td>\n",
       "      <td>597</td>\n",
       "      <td>0.0110</td>\n",
       "      <td>-73.978783</td>\n",
       "      <td>40.750889</td>\n",
       "      <td>-73.975159</td>\n",
       "      <td>40.759354</td>\n",
       "      <td>black</td>\n",
       "      <td>m</td>\n",
       "      <td>f</td>\n",
       "      <td>white</td>\n",
       "      <td>7</td>\n",
       "      <td>20</td>\n",
       "      <td>7</td>\n",
       "      <td>20</td>\n",
       "    </tr>\n",
       "    <tr>\n",
       "      <th>7936838</th>\n",
       "      <td>F687F5186616DA9897728700E265F186</td>\n",
       "      <td>CF2EDF8923B8DD33D100CDEE81CCFB6B</td>\n",
       "      <td>2013-01-31 16:30:14</td>\n",
       "      <td>2013-01-31 16:40:16</td>\n",
       "      <td>601</td>\n",
       "      <td>0.0170</td>\n",
       "      <td>-73.917206</td>\n",
       "      <td>40.761272</td>\n",
       "      <td>-73.919685</td>\n",
       "      <td>40.774532</td>\n",
       "      <td>white</td>\n",
       "      <td>m</td>\n",
       "      <td>m</td>\n",
       "      <td>black</td>\n",
       "      <td>7</td>\n",
       "      <td>21</td>\n",
       "      <td>7</td>\n",
       "      <td>21</td>\n",
       "    </tr>\n",
       "    <tr>\n",
       "      <th>7940959</th>\n",
       "      <td>964D6D22CA15493BC4579345085B36DF</td>\n",
       "      <td>583BC216AF18F2358731CD013D7FDDE1</td>\n",
       "      <td>2013-01-31 16:15:13</td>\n",
       "      <td>2013-01-31 16:36:51</td>\n",
       "      <td>1297</td>\n",
       "      <td>0.0590</td>\n",
       "      <td>-74.015930</td>\n",
       "      <td>40.709587</td>\n",
       "      <td>-73.982811</td>\n",
       "      <td>40.741882</td>\n",
       "      <td>black</td>\n",
       "      <td>m</td>\n",
       "      <td>f</td>\n",
       "      <td>black</td>\n",
       "      <td>6</td>\n",
       "      <td>19</td>\n",
       "      <td>6</td>\n",
       "      <td>20</td>\n",
       "    </tr>\n",
       "  </tbody>\n",
       "</table>\n",
       "</div>"
      ],
      "text/plain": [
       "                                medallion                      hack_license  \\\n",
       "7859875  4D3DDD6973BACE91587C7CD79983BC4F  386CB62371C5CED8205E5C51E2E3BBDD   \n",
       "7934562  03A23771C873D52AD9FA0B22CEB1B0FB  5B6CCC2D5ECDF7A3D5C3CA74DB82038B   \n",
       "7935512  311518AFA6CB5DF4A6544D3BE4B04DBE  884E2B8E2B46991E9314D2119B8DDD20   \n",
       "7936838  F687F5186616DA9897728700E265F186  CF2EDF8923B8DD33D100CDEE81CCFB6B   \n",
       "7940959  964D6D22CA15493BC4579345085B36DF  583BC216AF18F2358731CD013D7FDDE1   \n",
       "\n",
       "            pickup_datetime    dropoff_datetime  trip_time_in_secs  \\\n",
       "7859875 2013-01-31 16:59:00 2013-01-31 17:13:00                840   \n",
       "7934562 2013-01-31 16:34:54 2013-01-31 16:41:29                394   \n",
       "7935512 2013-01-31 16:22:48 2013-01-31 16:32:45                597   \n",
       "7936838 2013-01-31 16:30:14 2013-01-31 16:40:16                601   \n",
       "7940959 2013-01-31 16:15:13 2013-01-31 16:36:51               1297   \n",
       "\n",
       "         trip_distance  pickup_longitude  pickup_latitude  dropoff_longitude  \\\n",
       "7859875         0.0245        -73.885246        40.773052         -73.913620   \n",
       "7934562         0.0110        -73.992783        40.742748         -74.004730   \n",
       "7935512         0.0110        -73.978783        40.750889         -73.975159   \n",
       "7936838         0.0170        -73.917206        40.761272         -73.919685   \n",
       "7940959         0.0590        -74.015930        40.709587         -73.982811   \n",
       "\n",
       "         dropoff_latitude driver_race driver_gender requests_gender  \\\n",
       "7859875         40.768368       black             m               f   \n",
       "7934562         40.741692       black             m               m   \n",
       "7935512         40.759354       black             m               f   \n",
       "7936838         40.774532       white             m               m   \n",
       "7940959         40.741882       black             m               f   \n",
       "\n",
       "        requests_race  pickup_lat_bin  pickup_long_bin  dropoff_lat_bin  \\\n",
       "7859875         black               7               21                7   \n",
       "7934562         white               6               19                6   \n",
       "7935512         white               7               20                7   \n",
       "7936838         black               7               21                7   \n",
       "7940959         black               6               19                6   \n",
       "\n",
       "         dropoff_long_bin  \n",
       "7859875                21  \n",
       "7934562                19  \n",
       "7935512                20  \n",
       "7936838                21  \n",
       "7940959                20  "
      ]
     },
     "execution_count": 47,
     "metadata": {},
     "output_type": "execute_result"
    }
   ],
   "source": [
    "peak_hour_entries = df[np.logical_and(df['pickup_datetime'].dt.hour == peak_hour, \n",
    "                                     df['pickup_datetime'].dt.day == peak_day)]\n",
    "peak_hour_entries.head()"
   ]
  },
  {
   "cell_type": "code",
   "execution_count": 48,
   "metadata": {},
   "outputs": [
    {
     "data": {
      "text/plain": [
       "20701"
      ]
     },
     "execution_count": 48,
     "metadata": {},
     "output_type": "execute_result"
    }
   ],
   "source": [
    "len(peak_hour_entries)"
   ]
  },
  {
   "cell_type": "code",
   "execution_count": 49,
   "metadata": {},
   "outputs": [],
   "source": [
    "# historical_data = df[df['pickup_datetime'].dt.day != peak_day]\n",
    "# print (len(historical_data))\n",
    "# historical_data.head()"
   ]
  },
  {
   "cell_type": "markdown",
   "metadata": {},
   "source": [
    "## Get Off Peak Hour Driver and Requests"
   ]
  },
  {
   "cell_type": "markdown",
   "metadata": {},
   "source": [
    "##### Number of drivers in peak hour"
   ]
  },
  {
   "cell_type": "code",
   "execution_count": 50,
   "metadata": {},
   "outputs": [
    {
     "name": "stdout",
     "output_type": "stream",
     "text": [
      "Driver Types: 83, Total Drivers: 8386\n"
     ]
    }
   ],
   "source": [
    "peak_hour_driver_types = list(peak_hour_entries.groupby(driver_features)['hack_license'].agg('count').index)\n",
    "print (\"Driver Types: {}, Total Drivers: {}\".format(len(peak_hour_driver_types), \n",
    "                                                    len(set(list(peak_hour_entries['hack_license'])))))\n",
    "# assert len(set(list(peak_hour_drivers.values))) == len(peak_hour_drivers)"
   ]
  },
  {
   "cell_type": "markdown",
   "metadata": {},
   "source": [
    "###### Number of request types in the peak hour and number of requests"
   ]
  },
  {
   "cell_type": "code",
   "execution_count": 51,
   "metadata": {},
   "outputs": [
    {
     "name": "stdout",
     "output_type": "stream",
     "text": [
      "Request Types: 686, Total requests: 20701\n"
     ]
    }
   ],
   "source": [
    "peak_hour_requests = list(peak_hour_entries.groupby(requests_features)['requests_gender'].agg('count').index)\n",
    "print (\"Request Types: {}, Total requests: {}\".format(len(peak_hour_requests), \n",
    "                                                      len(peak_hour_entries)))"
   ]
  },
  {
   "cell_type": "code",
   "execution_count": 52,
   "metadata": {},
   "outputs": [],
   "source": [
    "def calculate_probability(request, driver, kappa=0.5):\n",
    "    if request.race == 'black' and driver.race == 'black':\n",
    "        request_driver_coeff = 0.3\n",
    "    elif request.race == 'white' and driver.race == 'white':\n",
    "        request_driver_coeff = 0.6\n",
    "#     elif request.race == 'black' and driver.race == 'white':\n",
    "#         request_driver_coeff = 0.1\n",
    "    else:\n",
    "        request_driver_coeff = 0.1\n",
    "#     p = 0.6 * request.distance + 0.4 * request_driver_coeff\n",
    "    p = request_driver_coeff\n",
    "    p = kappa + (1 - kappa) * p\n",
    "    assert p <= 1 and p >= kappa\n",
    "    return p"
   ]
  },
  {
   "cell_type": "markdown",
   "metadata": {},
   "source": [
    "###### Subsample drivers for off-peak hour: assign k (=2) drivers for each driver type"
   ]
  },
  {
   "cell_type": "code",
   "execution_count": 53,
   "metadata": {},
   "outputs": [],
   "source": [
    "def get_drivers(driver_Bu):\n",
    "    subsample_fraction = 1\n",
    "    k = 80\n",
    "    random.seed(42)\n",
    "    sampled_peak_hour_drivers = random.sample(peak_hour_driver_types, k)\n",
    "\n",
    "    # Further downsampling to 4 driver types!\n",
    "#     sampled_peak_hour_drivers = random.sample(sampled_peak_hour_drivers, k=20)\n",
    "\n",
    "    print (\"Chosen driver types: {}\".format(len(sampled_peak_hour_drivers)))\n",
    "\n",
    "    drivers = [] # Equivalent to set U\n",
    "    for driver_type in sampled_peak_hour_drivers:\n",
    "        mask = None\n",
    "        bool_peak_entries_match = peak_hour_entries[driver_features] == driver_type\n",
    "        for ft in driver_features:\n",
    "            mask = bool_peak_entries_match[ft].values if mask is None else\\\n",
    "                np.logical_and(mask, bool_peak_entries_match[ft].values)\n",
    "\n",
    "        if (np.count_nonzero(mask)) < 2:\n",
    "            continue\n",
    "        sampled_ids = random.sample(list(peak_hour_entries[mask]['hack_license']), k=k \\\n",
    "                                    if k is not None and k < np.count_nonzero(mask) else np.count_nonzero(mask))\n",
    "        for d_id in sampled_ids:\n",
    "            driver_instance = Driver(**dict(zip(driver_features, driver_type)), d_id=d_id, Bu=random.randint(1,driver_Bu))\n",
    "            if driver_instance not in drivers:\n",
    "#                 driver_instance.race = np.random.choice(['black', 'white'], p=[0.75, 0.25])[0]\n",
    "#                 print (driver_instance.race)\n",
    "                drivers.append(driver_instance)\n",
    "            break\n",
    "            \n",
    "    set_unique_ids(drivers)\n",
    "\n",
    "    print (\"Total number of drivers: {}, Size of set U: {}\".format(len(drivers), len(set(drivers))))\n",
    "    return drivers"
   ]
  },
  {
   "cell_type": "markdown",
   "metadata": {},
   "source": [
    "###### Subsample requests for the peak hour: multiply arrival rate of requests by k from each request type"
   ]
  },
  {
   "cell_type": "code",
   "execution_count": 54,
   "metadata": {},
   "outputs": [],
   "source": [
    "def count_total_requests(all_entries, sampled_request_types):\n",
    "    total = 0\n",
    "    for request_vals in sampled_request_types:\n",
    "        mask = None\n",
    "        bool_peak_entries_match = all_entries[requests_features] == request_vals\n",
    "        for ft in requests_features:\n",
    "            mask = np.array(bool_peak_entries_match[ft]) if mask is None else \\\n",
    "                mask & np.array(bool_peak_entries_match[ft])\n",
    "        total += np.count_nonzero(mask)\n",
    "    return total"
   ]
  },
  {
   "cell_type": "code",
   "execution_count": 55,
   "metadata": {},
   "outputs": [],
   "source": [
    "def get_requests(request_quota):\n",
    "    subsample_fraction = 0.2\n",
    "#     k = 1\n",
    "    random.seed(42)\n",
    "    sampled_request_types = random.sample(peak_hour_requests, k=int(subsample_fraction * len(peak_hour_requests)))\n",
    "    print (\"Chosen types of requests: {}\".format(len(sampled_request_types)))\n",
    "    total_sampled_requests = count_total_requests(peak_hour_entries, sampled_request_types)\n",
    "    if subsample_fraction == 1:\n",
    "        assert total_sampled_requests == len(peak_hour_entries)\n",
    "    print (\"Total Sampled Requests: {}\".format(total_sampled_requests))\n",
    "\n",
    "    requests = [] # Equivalent to set V\n",
    "    for request_vals in sampled_request_types:\n",
    "        mask = None\n",
    "        bool_peak_entries_match = peak_hour_entries[requests_features] == request_vals\n",
    "        for ft in requests_features:\n",
    "            mask = np.array(bool_peak_entries_match[ft]) if mask is None else \\\n",
    "                mask & np.array(bool_peak_entries_match[ft])\n",
    "        # Find average distance in miles and put that in request type\n",
    "        requests.append(Request(**dict(zip(requests_features, request_vals)), \n",
    "                                arrival_rate=float(np.count_nonzero(mask)),\n",
    "                                distance=np.mean(peak_hour_entries[mask]['trip_distance']),\n",
    "                                quota=request_quota))\n",
    "\n",
    "    set_unique_ids(requests)\n",
    "\n",
    "    print (\"Initial Number of Requests: {}, size of set V: {}\".format(\n",
    "        np.sum([r.arrival_rate for r in requests]), len(set(requests))))\n",
    "    return requests, np.sum([r.arrival_rate for r in requests])"
   ]
  },
  {
   "cell_type": "code",
   "execution_count": 56,
   "metadata": {},
   "outputs": [],
   "source": [
    "def edge_existence_bool(driver, request):\n",
    "    return abs(driver.latitude-request.start_latitude)+abs(driver.longitude-request.start_longitude)\n",
    "\n",
    "def draw_probability_edges(drivers, requests):\n",
    "    edge_matrix = np.zeros((len(drivers), len(requests))) - 1\n",
    "    for d in drivers:\n",
    "        for r in requests:\n",
    "            if edge_existence_bool(d, r) < 2:\n",
    "                edge_matrix[d.u_id, r.u_id] = calculate_probability(r, d)\n",
    "    return edge_matrix"
   ]
  },
  {
   "cell_type": "code",
   "execution_count": 57,
   "metadata": {},
   "outputs": [],
   "source": [
    "def filter_out_drivers_requests(drivers, requests, total_requests):\n",
    "    probability_matrix = draw_probability_edges(drivers, requests)\n",
    "    new_requests, new_total = [], total_requests\n",
    "    average_arrival_rate = total_requests/len(requests)\n",
    "#     for r in requests:\n",
    "#         if np.count_nonzero(probability_matrix[:,r.u_id] != -1) > 20 and r.arrival_rate >= average_arrival_rate:\n",
    "#             if abs(r.arrival_rate - average_arrival_rate) > 10:\n",
    "#                 new_arrival_rate = int(average_arrival_rate) + random.randint(0, 10)\n",
    "#                 new_total -= (r.arrival_rate - new_arrival_rate)\n",
    "#                 r.arrival_rate = new_arrival_rate\n",
    "#             new_requests.append(r)\n",
    "#         else:\n",
    "#             new_total -= r.arrival_rate\n",
    "#     for i in range(len(drivers)):\n",
    "#         if np.count_nonzero(probability_matrix[drivers[i].u_id,:] != -1) > 0:\n",
    "#             new_drivers.append(drivers[i])\n",
    "\n",
    "    for i in range(len(requests)):\n",
    "        if np.count_nonzero(probability_matrix[:,requests[i].u_id] != -1) > 3:\n",
    "            new_requests.append(requests[i])\n",
    "        else:\n",
    "            new_total -= requests[i].arrival_rate\n",
    "    np.random.seed(42)\n",
    "    new_arrival_rates = np.random.normal(loc=5, scale=1, size=len(new_requests))\n",
    "    for i in range(len(new_requests)):\n",
    "        new_total -= new_requests[i].arrival_rate\n",
    "        new_requests[i].arrival_rate = round(new_arrival_rates[i])\n",
    "        new_total += new_requests[i].arrival_rate\n",
    "        if new_requests[i].race == 'white':\n",
    "            new_requests[i].arrival_rate += new_requests[i].arrival_rate\n",
    "            new_total += new_requests[i].arrival_rate\n",
    "    assert int(new_total) == new_total\n",
    "    \n",
    "    set_unique_ids(new_requests)\n",
    "    \n",
    "    probability_matrix = draw_probability_edges(drivers, new_requests)\n",
    "    new_drivers = []\n",
    "    for i in range(len(drivers)):\n",
    "        if np.count_nonzero(probability_matrix[drivers[i].u_id,:] != -1) > 0:\n",
    "            new_drivers.append(drivers[i])\n",
    "    \n",
    "    return new_requests, int(new_total), new_drivers"
   ]
  },
  {
   "cell_type": "code",
   "execution_count": 58,
   "metadata": {},
   "outputs": [],
   "source": [
    "def get_drivers_and_requests(driver_Bu, request_quota):\n",
    "    drivers = get_drivers(driver_Bu)\n",
    "    requests, total_sampled_requests = get_requests(request_quota)\n",
    "    requests, total_sampled_requests, drivers = filter_out_drivers_requests(drivers, requests, total_sampled_requests)\n",
    "    set_unique_ids(drivers)\n",
    "    for i in range(len(drivers)):\n",
    "        if drivers[i].race == 'white':\n",
    "            drivers[i].Bu = 2 * drivers[i].Bu\n",
    "#     set_unique_ids(requests)\n",
    "    print (\"Final Number of Requests: {} {}, size of set V: {}\".format(\n",
    "        np.sum([r.arrival_rate for r in requests]), total_sampled_requests, len(set(requests))))\n",
    "    print (\"Final Number of Drivers: {}, size of set U: {}\".format(\n",
    "        np.sum([r.Bu for r in drivers]), len(set(drivers))))\n",
    "    return drivers, requests"
   ]
  },
  {
   "cell_type": "code",
   "execution_count": 59,
   "metadata": {},
   "outputs": [],
   "source": [
    "# def get_drivers_requests(driver_Bu,request_quota):\n",
    "#     random.seed(42)\n",
    "#     sampled_request_types = random.sample(peak_hour_requests, k=20)\n",
    "#     print (\"Chosen types of requests: {}\".format(len(sampled_request_types)))\n",
    "\n",
    "#     drivers = []\n",
    "#     requests = [] # Equivalent to set V\n",
    "# #     filter_features = ['pickup_lat_bin', 'pickup_long_bin', 'dropoff_lat_bin', 'dropoff_long_bin']\n",
    "#     d_id_index = 1\n",
    "#     for request_vals in sampled_request_types:\n",
    "#         mask = None\n",
    "# #         print(request_vals[0])\n",
    "#         bool_peak_entries_match = peak_hour_entries[requests_features] == request_vals\n",
    "#         for ft in requests_features:\n",
    "#             mask = np.array(bool_peak_entries_match[ft]) if mask is None else \\\n",
    "#                 mask & np.array(bool_peak_entries_match[ft])\n",
    "# #         new_arrival_rate = np.random.normal(loc=5, scale=1)\n",
    "#         new_arrival_rate = random.randint(4,6)\n",
    "#         # Find average distance in miles and put that in request type\n",
    "#         requests.append(Request(pickup_lat_bin=request_vals[0], \n",
    "#                                 pickup_long_bin=request_vals[1], \n",
    "#                                 dropoff_lat_bin=request_vals[2], \n",
    "#                                 dropoff_long_bin=request_vals[3],\n",
    "#                                 requests_race='black',\n",
    "#                                 requests_gender='m',\n",
    "#                                 arrival_rate=new_arrival_rate,\n",
    "#                                 distance=np.mean(peak_hour_entries[mask]['trip_distance']),\n",
    "#                                 quota=random.randint(1,request_quota)))\n",
    "#         requests.append(Request(pickup_lat_bin=request_vals[0], \n",
    "#                                 pickup_long_bin=request_vals[1], \n",
    "#                                 dropoff_lat_bin=request_vals[2], \n",
    "#                                 dropoff_long_bin=request_vals[3],\n",
    "#                                 requests_race='black',\n",
    "#                                 requests_gender='f',\n",
    "#                                 arrival_rate=new_arrival_rate,\n",
    "#                                 distance=np.mean(peak_hour_entries[mask]['trip_distance']),\n",
    "#                                 quota=random.randint(1,request_quota)))\n",
    "#         requests.append(Request(pickup_lat_bin=request_vals[0], \n",
    "#                                 pickup_long_bin=request_vals[1], \n",
    "#                                 dropoff_lat_bin=request_vals[2], \n",
    "#                                 dropoff_long_bin=request_vals[3],\n",
    "#                                 requests_race='white',\n",
    "#                                 requests_gender='m',\n",
    "#                                 arrival_rate=2*new_arrival_rate,\n",
    "#                                 distance=np.mean(peak_hour_entries[mask]['trip_distance']),\n",
    "#                                 quota=random.randint(1,request_quota)))\n",
    "#         requests.append(Request(pickup_lat_bin=request_vals[0], \n",
    "#                                 pickup_long_bin=request_vals[1], \n",
    "#                                 dropoff_lat_bin=request_vals[2], \n",
    "#                                 dropoff_long_bin=request_vals[3],\n",
    "#                                 requests_race='white',\n",
    "#                                 requests_gender='f',\n",
    "#                                 arrival_rate=2*new_arrival_rate,\n",
    "#                                 distance=np.mean(peak_hour_entries[mask]['trip_distance']),\n",
    "#                                 quota=random.randint(1,request_quota)))\n",
    "#         B=random.randint(1,driver_Bu)\n",
    "#         driver_instance = Driver(pickup_lat_bin=request_vals[0],pickup_long_bin=request_vals[1],driver_race='white',driver_gender='m',d_id=d_id_index,Bu=B)\n",
    "#         if driver_instance not in drivers:\n",
    "#             drivers.append(driver_instance)\n",
    "#             d_id_index = d_id_index + 1\n",
    "#             drivers.append(Driver(pickup_lat_bin=request_vals[0],pickup_long_bin=request_vals[1],driver_race='white',driver_gender='f',d_id=d_id_index,Bu=B))\n",
    "#             d_id_index = d_id_index + 1\n",
    "#             drivers.append(Driver(pickup_lat_bin=request_vals[0],pickup_long_bin=request_vals[1],driver_race='black',driver_gender='m',d_id=d_id_index,Bu=3*B))\n",
    "#             d_id_index = d_id_index + 1\n",
    "#             drivers.append(Driver(pickup_lat_bin=request_vals[0],pickup_long_bin=request_vals[1],driver_race='black',driver_gender='f',d_id=d_id_index,Bu=3*B))\n",
    "#         changelist = [[1,0],[0,1],[-1,0],[0,-1]]\n",
    "#         tmp_vals = random.choice(changelist)\n",
    "#         another_driver_lat = request_vals[0] + tmp_vals[0]\n",
    "#         another_driver_long = request_vals[1] + tmp_vals[1]\n",
    "# #         if another_driver_lat < 1 || another_driver_lat > :\n",
    "# #             another_driver_lat = another_driver_lat + 1\n",
    "#         B=random.randint(1,driver_Bu)\n",
    "#         driver_instance = Driver(pickup_lat_bin=another_driver_lat,pickup_long_bin=another_driver_long,driver_race='white',driver_gender='m',d_id=d_id_index,Bu=B)\n",
    "#         if driver_instance not in drivers:\n",
    "#             drivers.append(driver_instance)\n",
    "#             d_id_index = d_id_index + 1\n",
    "#             drivers.append(Driver(pickup_lat_bin=another_driver_lat,pickup_long_bin=another_driver_long,driver_race='white',driver_gender='f',d_id=d_id_index,Bu=B))\n",
    "#             d_id_index = d_id_index + 1\n",
    "#             drivers.append(Driver(pickup_lat_bin=another_driver_lat,pickup_long_bin=another_driver_long,driver_race='black',driver_gender='m',d_id=d_id_index,Bu=3*B))\n",
    "#             d_id_index = d_id_index + 1\n",
    "#             drivers.append(Driver(pickup_lat_bin=another_driver_lat,pickup_long_bin=another_driver_long,driver_race='black',driver_gender='f',d_id=d_id_index,Bu=3*B))\n",
    "            \n",
    "#     set_unique_ids(requests)\n",
    "#     set_unique_ids(drivers)\n",
    "\n",
    "#     print (\"Total Requests: {}, size of set V: {}, Total Drivers:{}, size of set U:{}\".format(\n",
    "#         np.sum([r.arrival_rate for r in requests]), len(set(requests)), np.sum([d.Bu for d in drivers]), len(drivers)))\n",
    "#     return drivers, requests"
   ]
  },
  {
   "cell_type": "code",
   "execution_count": 60,
   "metadata": {},
   "outputs": [],
   "source": [
    "# drivers, requests = get_drivers_and_requests(5, 2)\n",
    "# probability_matrix = draw_probability_edges(drivers, requests)"
   ]
  },
  {
   "cell_type": "code",
   "execution_count": 61,
   "metadata": {},
   "outputs": [],
   "source": [
    "# for d in drivers:\n",
    "#  print(d)\n",
    "# print(len(drivers))\n",
    "# print(requests[8])\n",
    "# print(probability_matrix[:,8])"
   ]
  },
  {
   "cell_type": "code",
   "execution_count": 62,
   "metadata": {},
   "outputs": [],
   "source": [
    "# for r in requests:\n",
    "#     print(r)\n",
    "# print(len(requests))"
   ]
  },
  {
   "cell_type": "code",
   "execution_count": 63,
   "metadata": {},
   "outputs": [],
   "source": [
    "# drivers, requests = get_drivers_and_requests(15, 3)\n",
    "# probability_matrix = draw_probability_edges(drivers, requests)\n",
    "# # print(len(drivers))\n",
    "# # print(len(requests))\n",
    "# r_vs = []\n",
    "# for r in requests:\n",
    "#     r_vs.append(r.arrival_rate)\n",
    "# min(r_vs), max(r_vs)\n",
    "\n",
    "# in_degree_v = []\n",
    "# for i in range(len(requests)):\n",
    "#     in_degree_v.append(np.count_nonzero(probability_matrix[:,i] != -1))\n",
    "\n",
    "# in_degree_u = []\n",
    "# for i in range(len(drivers)):\n",
    "#     in_degree_u.append(np.count_nonzero(probability_matrix[i,:] != -1))\n",
    "# #     print(np.count_nonzero(probability_matrix[i,:] != -1))\n",
    "\n",
    "# print (\"Drivers' in-degree, average: {}, min: {}, max: {}\\nRiders' in-degree, average: {}, min: {}, max: {}\"\\\n",
    "#        .format(np.mean(in_degree_u), min(in_degree_u), max(in_degree_u), \n",
    "#                np.mean(in_degree_v), min(in_degree_v), max(in_degree_v)))"
   ]
  },
  {
   "cell_type": "code",
   "execution_count": null,
   "metadata": {},
   "outputs": [],
   "source": []
  },
  {
   "cell_type": "code",
   "execution_count": null,
   "metadata": {},
   "outputs": [],
   "source": []
  },
  {
   "cell_type": "code",
   "execution_count": null,
   "metadata": {},
   "outputs": [],
   "source": []
  }
 ],
 "metadata": {
  "kernelspec": {
   "display_name": "Python 3",
   "language": "python",
   "name": "python3"
  },
  "language_info": {
   "codemirror_mode": {
    "name": "ipython",
    "version": 3
   },
   "file_extension": ".py",
   "mimetype": "text/x-python",
   "name": "python",
   "nbconvert_exporter": "python",
   "pygments_lexer": "ipython3",
   "version": "3.6.8"
  }
 },
 "nbformat": 4,
 "nbformat_minor": 2
}
