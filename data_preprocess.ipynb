{
 "cells": [
  {
   "cell_type": "code",
   "execution_count": 1,
   "metadata": {},
   "outputs": [],
   "source": [
    "import pandas as pd\n",
    "import numpy as np\n",
    "import random\n",
    "import swifter\n",
    "random.seed(42)\n",
    "from matplotlib import pyplot as plt\n",
    "import matplotlib.dates as mdates\n"
   ]
  },
  {
   "cell_type": "code",
   "execution_count": 2,
   "metadata": {},
   "outputs": [
    {
     "data": {
      "text/html": [
       "<div>\n",
       "<style scoped>\n",
       "    .dataframe tbody tr th:only-of-type {\n",
       "        vertical-align: middle;\n",
       "    }\n",
       "\n",
       "    .dataframe tbody tr th {\n",
       "        vertical-align: top;\n",
       "    }\n",
       "\n",
       "    .dataframe thead th {\n",
       "        text-align: right;\n",
       "    }\n",
       "</style>\n",
       "<table border=\"1\" class=\"dataframe\">\n",
       "  <thead>\n",
       "    <tr style=\"text-align: right;\">\n",
       "      <th></th>\n",
       "      <th>medallion</th>\n",
       "      <th>hack_license</th>\n",
       "      <th>vendor_id</th>\n",
       "      <th>rate_code</th>\n",
       "      <th>store_and_fwd_flag</th>\n",
       "      <th>pickup_datetime</th>\n",
       "      <th>dropoff_datetime</th>\n",
       "      <th>passenger_count</th>\n",
       "      <th>trip_time_in_secs</th>\n",
       "      <th>trip_distance</th>\n",
       "      <th>pickup_longitude</th>\n",
       "      <th>pickup_latitude</th>\n",
       "      <th>dropoff_longitude</th>\n",
       "      <th>dropoff_latitude</th>\n",
       "    </tr>\n",
       "  </thead>\n",
       "  <tbody>\n",
       "    <tr>\n",
       "      <th>0</th>\n",
       "      <td>89D227B655E5C82AECF13C3F540D4CF4</td>\n",
       "      <td>BA96DE419E711691B9445D6A6307C170</td>\n",
       "      <td>CMT</td>\n",
       "      <td>1</td>\n",
       "      <td>N</td>\n",
       "      <td>2013-01-01 15:11:48</td>\n",
       "      <td>2013-01-01 15:18:10</td>\n",
       "      <td>4</td>\n",
       "      <td>382</td>\n",
       "      <td>1.0</td>\n",
       "      <td>-73.978165</td>\n",
       "      <td>40.757977</td>\n",
       "      <td>-73.989838</td>\n",
       "      <td>40.751171</td>\n",
       "    </tr>\n",
       "    <tr>\n",
       "      <th>1</th>\n",
       "      <td>0BD7C8F5BA12B88E0B67BED28BEA73D8</td>\n",
       "      <td>9FD8F69F0804BDB5549F40E9DA1BE472</td>\n",
       "      <td>CMT</td>\n",
       "      <td>1</td>\n",
       "      <td>N</td>\n",
       "      <td>2013-01-06 00:18:35</td>\n",
       "      <td>2013-01-06 00:22:54</td>\n",
       "      <td>1</td>\n",
       "      <td>259</td>\n",
       "      <td>1.5</td>\n",
       "      <td>-74.006683</td>\n",
       "      <td>40.731781</td>\n",
       "      <td>-73.994499</td>\n",
       "      <td>40.750660</td>\n",
       "    </tr>\n",
       "    <tr>\n",
       "      <th>2</th>\n",
       "      <td>0BD7C8F5BA12B88E0B67BED28BEA73D8</td>\n",
       "      <td>9FD8F69F0804BDB5549F40E9DA1BE472</td>\n",
       "      <td>CMT</td>\n",
       "      <td>1</td>\n",
       "      <td>N</td>\n",
       "      <td>2013-01-05 18:49:41</td>\n",
       "      <td>2013-01-05 18:54:23</td>\n",
       "      <td>1</td>\n",
       "      <td>282</td>\n",
       "      <td>1.1</td>\n",
       "      <td>-74.004707</td>\n",
       "      <td>40.737770</td>\n",
       "      <td>-74.009834</td>\n",
       "      <td>40.726002</td>\n",
       "    </tr>\n",
       "    <tr>\n",
       "      <th>3</th>\n",
       "      <td>DFD2202EE08F7A8DC9A57B02ACB81FE2</td>\n",
       "      <td>51EE87E3205C985EF8431D850C786310</td>\n",
       "      <td>CMT</td>\n",
       "      <td>1</td>\n",
       "      <td>N</td>\n",
       "      <td>2013-01-07 23:54:15</td>\n",
       "      <td>2013-01-07 23:58:20</td>\n",
       "      <td>2</td>\n",
       "      <td>244</td>\n",
       "      <td>0.7</td>\n",
       "      <td>-73.974602</td>\n",
       "      <td>40.759945</td>\n",
       "      <td>-73.984734</td>\n",
       "      <td>40.759388</td>\n",
       "    </tr>\n",
       "    <tr>\n",
       "      <th>4</th>\n",
       "      <td>DFD2202EE08F7A8DC9A57B02ACB81FE2</td>\n",
       "      <td>51EE87E3205C985EF8431D850C786310</td>\n",
       "      <td>CMT</td>\n",
       "      <td>1</td>\n",
       "      <td>N</td>\n",
       "      <td>2013-01-07 23:25:03</td>\n",
       "      <td>2013-01-07 23:34:24</td>\n",
       "      <td>1</td>\n",
       "      <td>560</td>\n",
       "      <td>2.1</td>\n",
       "      <td>-73.976250</td>\n",
       "      <td>40.748528</td>\n",
       "      <td>-74.002586</td>\n",
       "      <td>40.747868</td>\n",
       "    </tr>\n",
       "  </tbody>\n",
       "</table>\n",
       "</div>"
      ],
      "text/plain": [
       "                          medallion                      hack_license  \\\n",
       "0  89D227B655E5C82AECF13C3F540D4CF4  BA96DE419E711691B9445D6A6307C170   \n",
       "1  0BD7C8F5BA12B88E0B67BED28BEA73D8  9FD8F69F0804BDB5549F40E9DA1BE472   \n",
       "2  0BD7C8F5BA12B88E0B67BED28BEA73D8  9FD8F69F0804BDB5549F40E9DA1BE472   \n",
       "3  DFD2202EE08F7A8DC9A57B02ACB81FE2  51EE87E3205C985EF8431D850C786310   \n",
       "4  DFD2202EE08F7A8DC9A57B02ACB81FE2  51EE87E3205C985EF8431D850C786310   \n",
       "\n",
       "  vendor_id  rate_code store_and_fwd_flag      pickup_datetime  \\\n",
       "0       CMT          1                  N  2013-01-01 15:11:48   \n",
       "1       CMT          1                  N  2013-01-06 00:18:35   \n",
       "2       CMT          1                  N  2013-01-05 18:49:41   \n",
       "3       CMT          1                  N  2013-01-07 23:54:15   \n",
       "4       CMT          1                  N  2013-01-07 23:25:03   \n",
       "\n",
       "      dropoff_datetime  passenger_count  trip_time_in_secs  trip_distance  \\\n",
       "0  2013-01-01 15:18:10                4                382            1.0   \n",
       "1  2013-01-06 00:22:54                1                259            1.5   \n",
       "2  2013-01-05 18:54:23                1                282            1.1   \n",
       "3  2013-01-07 23:58:20                2                244            0.7   \n",
       "4  2013-01-07 23:34:24                1                560            2.1   \n",
       "\n",
       "   pickup_longitude  pickup_latitude  dropoff_longitude  dropoff_latitude  \n",
       "0        -73.978165        40.757977         -73.989838         40.751171  \n",
       "1        -74.006683        40.731781         -73.994499         40.750660  \n",
       "2        -74.004707        40.737770         -74.009834         40.726002  \n",
       "3        -73.974602        40.759945         -73.984734         40.759388  \n",
       "4        -73.976250        40.748528         -74.002586         40.747868  "
      ]
     },
     "execution_count": 2,
     "metadata": {},
     "output_type": "execute_result"
    }
   ],
   "source": [
    "df = pd.read_csv('trip_data_1.csv') # file for january\n",
    "df.head()"
   ]
  },
  {
   "cell_type": "code",
   "execution_count": 3,
   "metadata": {},
   "outputs": [
    {
     "data": {
      "text/plain": [
       "(13426, 32224)"
      ]
     },
     "execution_count": 3,
     "metadata": {},
     "output_type": "execute_result"
    }
   ],
   "source": [
    "len(set(df['medallion'])), len(set(df['hack_license']))"
   ]
  },
  {
   "cell_type": "code",
   "execution_count": 4,
   "metadata": {},
   "outputs": [],
   "source": [
    "df['pickup_datetime'] = pd.to_datetime(df['pickup_datetime'])"
   ]
  },
  {
   "cell_type": "code",
   "execution_count": 5,
   "metadata": {},
   "outputs": [
    {
     "data": {
      "text/plain": [
       "pickup_datetime\n",
       "2013-01-01    412630\n",
       "2013-01-02    393001\n",
       "2013-01-03    441233\n",
       "2013-01-04    478437\n",
       "2013-01-05    473804\n",
       "Name: pickup_datetime, dtype: int64"
      ]
     },
     "execution_count": 5,
     "metadata": {},
     "output_type": "execute_result"
    }
   ],
   "source": [
    "aggregate_df = df.groupby([df['pickup_datetime'].dt.date])['pickup_datetime'].agg('count')\n",
    "aggregate_df.head()"
   ]
  },
  {
   "cell_type": "code",
   "execution_count": 6,
   "metadata": {},
   "outputs": [],
   "source": [
    "assert aggregate_df.sum() == len(df) # sanity check: sum of frequencies of all days of january == all rides in January"
   ]
  },
  {
   "cell_type": "code",
   "execution_count": 7,
   "metadata": {},
   "outputs": [
    {
     "name": "stderr",
     "output_type": "stream",
     "text": [
      "/Users/imote/anaconda3/lib/python3.6/site-packages/pandas/plotting/_matplotlib/converter.py:103: FutureWarning: Using an implicitly registered datetime converter for a matplotlib plotting method. The converter was registered by pandas on import. Future versions of pandas will require you to explicitly register matplotlib converters.\n",
      "\n",
      "To register the converters:\n",
      "\t>>> from pandas.plotting import register_matplotlib_converters\n",
      "\t>>> register_matplotlib_converters()\n",
      "  warnings.warn(msg, FutureWarning)\n"
     ]
    },
    {
     "data": {
      "text/plain": [
       "<Figure size 432x288 with 0 Axes>"
      ]
     },
     "metadata": {},
     "output_type": "display_data"
    },
    {
     "data": {
      "image/png": "[encoded data removed]",
      "text/plain": [
       "<Figure size 432x288 with 1 Axes>"
      ]
     },
     "metadata": {
      "needs_background": "light"
     },
     "output_type": "display_data"
    }
   ],
   "source": [
    "plt.rcParams['font.sans-serif'] = ['SimHei']\n",
    "plt.rcParams.update({'font.size': 15})\n",
    "plt.clf()\n",
    "fig = plt.figure()\n",
    "ax = fig.add_subplot(111)\n",
    "ax.plot(aggregate_df.index, aggregate_df)\n",
    "ax.set_xlabel('日期')\n",
    "ax.set_ylabel('频次')\n",
    "# formatter = mdates.DateFormatter(\"%m月%d日\")\n",
    "# ax.xaxis.set_major_formatter(formatter)\n",
    "plt.xticks(rotation=90)\n",
    "plt.savefig('jan_date_vs_rides_dist.pdf',bbox_inches='tight')\n",
    "plt.show()"
   ]
  },
  {
   "cell_type": "code",
   "execution_count": 8,
   "metadata": {},
   "outputs": [
    {
     "data": {
      "text/plain": [
       "(pickup_datetime\n",
       " 0     531347\n",
       " 1     401365\n",
       " 2     307314\n",
       " 3     227515\n",
       " 4     164900\n",
       " 5     143100\n",
       " 6     304640\n",
       " 7     546976\n",
       " 8     694630\n",
       " 9     700817\n",
       " 10    658908\n",
       " 11    675108\n",
       " 12    723139\n",
       " 13    721154\n",
       " 14    757578\n",
       " 15    743037\n",
       " 16    647936\n",
       " 17    767050\n",
       " 18    934546\n",
       " 19    941645\n",
       " 20    866823\n",
       " 21    833123\n",
       " 22    806661\n",
       " 23    677303\n",
       " Name: pickup_datetime, dtype: int64, 24)"
      ]
     },
     "execution_count": 8,
     "metadata": {},
     "output_type": "execute_result"
    }
   ],
   "source": [
    "aggregate_time = df.groupby([df['pickup_datetime'].dt.hour])['pickup_datetime'].agg('count')\n",
    "aggregate_time, len(aggregate_time)\n"
   ]
  },
  {
   "cell_type": "code",
   "execution_count": 11,
   "metadata": {},
   "outputs": [
    {
     "data": {
      "text/plain": [
       "<Figure size 432x288 with 0 Axes>"
      ]
     },
     "metadata": {},
     "output_type": "display_data"
    },
    {
     "data": {
      "image/png": "[encoded data removed]",
      "text/plain": [
       "<Figure size 432x288 with 1 Axes>"
      ]
     },
     "metadata": {
      "needs_background": "light"
     },
     "output_type": "display_data"
    }
   ],
   "source": [
    "plt.clf()\n",
    "fig = plt.figure()\n",
    "ax = fig.add_subplot(111)\n",
    "ax.plot(aggregate_time.index, aggregate_time/31, marker='o', color='k')\n",
    "\n",
    "peak_hour = np.argmax(np.array(aggregate_time))\n",
    "\n",
    "ax.axvline(x=peak_hour, linestyle='--', color='k')\n",
    "ax.tick_params('x', which='minor', direction='in', pad=-12)\n",
    "ax.xaxis.set_ticks([peak_hour], minor=True)\n",
    "ax.xaxis.set_ticklabels(list(map(str, [peak_hour])), minor=True)\n",
    "ax.set_title('2013年1月（平均）')\n",
    "ax.set_xlabel('时间')\n",
    "ax.set_ylabel('频次')\n",
    "plt.savefig('jan_hour_vs_rides_dist.svg',bbox_inches='tight')\n",
    "plt.show()"
   ]
  },
  {
   "cell_type": "code",
   "execution_count": 21,
   "metadata": {},
   "outputs": [
    {
     "data": {
      "text/plain": [
       "<Figure size 432x288 with 0 Axes>"
      ]
     },
     "metadata": {},
     "output_type": "display_data"
    },
    {
     "data": {
      "image/png": "[encoded data removed]",
      "text/plain": [
       "<Figure size 432x288 with 1 Axes>"
      ]
     },
     "metadata": {
      "needs_background": "light"
     },
     "output_type": "display_data"
    }
   ],
   "source": [
    "aggregate_time_last_day = df.groupby([df['pickup_datetime'][df['pickup_datetime'].dt.day == 31].dt.hour])['pickup_datetime'].agg('count')\n",
    "\n",
    "plt.clf()\n",
    "fig = plt.figure()\n",
    "ax = fig.add_subplot(111)\n",
    "ax.plot(aggregate_time_last_day.index, aggregate_time_last_day, marker='o')\n",
    "\n",
    "off_peak_hour = 19\n",
    "\n",
    "ax.axvline(x=off_peak_hour, linestyle='--', color='r')\n",
    "ax.tick_params('x', which='minor', direction='in', pad=-12)\n",
    "ax.xaxis.set_ticks([off_peak_hour], minor=True)\n",
    "ax.xaxis.set_ticklabels(list(map(str, [off_peak_hour])), minor=True)\n",
    "ax.set_title('2013年1月31日')\n",
    "ax.set_xlabel('时间')\n",
    "ax.set_ylabel('频次')\n",
    "plt.savefig('31_jan_hour_vs_rides_dist.pdf',bbox_inches='tight')\n",
    "plt.show()"
   ]
  },
  {
   "cell_type": "code",
   "execution_count": 25,
   "metadata": {},
   "outputs": [
    {
     "data": {
      "text/plain": [
       "<Figure size 432x288 with 0 Axes>"
      ]
     },
     "metadata": {},
     "output_type": "display_data"
    },
    {
     "data": {
      "image/png": "[encoded data removed]",
      "text/plain": [
       "<Figure size 432x288 with 1 Axes>"
      ]
     },
     "metadata": {
      "needs_background": "light"
     },
     "output_type": "display_data"
    }
   ],
   "source": [
    "aggregate_time_last_day = df.groupby([df['pickup_datetime'][df['pickup_datetime'].dt.day == 24].dt.hour])['pickup_datetime'].agg('count')\n",
    "\n",
    "plt.clf()\n",
    "fig = plt.figure()\n",
    "ax = fig.add_subplot(111)\n",
    "ax.plot(aggregate_time_last_day.index, aggregate_time_last_day, marker='o')\n",
    "\n",
    "off_peak_hour = 19\n",
    "\n",
    "ax.axvline(x=off_peak_hour, linestyle='--', color='r')\n",
    "ax.tick_params('x', which='minor', direction='in', pad=-12)\n",
    "ax.xaxis.set_ticks([off_peak_hour], minor=True)\n",
    "ax.xaxis.set_ticklabels(list(map(str, [off_peak_hour])), minor=True)\n",
    "# ax.set_title('2013年1月3日')\n",
    "ax.set_xlabel('时间')\n",
    "ax.set_ylabel('频次')\n",
    "plt.savefig('24_jan_hour_vs_rides_dist.pdf',bbox_inches='tight')\n",
    "plt.show()"
   ]
  },
  {
   "cell_type": "code",
   "execution_count": 69,
   "metadata": {},
   "outputs": [
    {
     "data": {
      "text/plain": [
       "(-3547.9207, -3547.9207, 3310.3645, 3477.1055)"
      ]
     },
     "execution_count": 69,
     "metadata": {},
     "output_type": "execute_result"
    }
   ],
   "source": [
    "(np.min(df['pickup_latitude']), np.min(df['dropoff_latitude']),\n",
    "    np.max(df['pickup_latitude']), np.max(df['dropoff_latitude']))"
   ]
  },
  {
   "cell_type": "code",
   "execution_count": 70,
   "metadata": {},
   "outputs": [
    {
     "data": {
      "text/plain": [
       "(-2771.2854, 2228.7375)"
      ]
     },
     "execution_count": 70,
     "metadata": {},
     "output_type": "execute_result"
    }
   ],
   "source": [
    "(min(df['pickup_longitude'].min(), df['dropoff_longitude'].min()),\n",
    "    max(df['pickup_longitude'].max(), df['dropoff_longitude'].max()))"
   ]
  },
  {
   "cell_type": "code",
   "execution_count": 71,
   "metadata": {},
   "outputs": [],
   "source": [
    "def valid_coordinate_bool(series, lower, upper):\n",
    "    \"\"\"\n",
    "    series is a list of pandas series objects\n",
    "    lower and upper are lower and upper bound for coordinates to be valid\n",
    "    \"\"\"\n",
    "    final_condition = np.logical_and(np.abs(series[0]) > lower, np.abs(series[0]) < upper)\n",
    "    for i in range(1, len(series)):\n",
    "        final_condition = np.logical_and(final_condition, np.logical_and(np.abs(series[i]) > lower, np.abs(series[i]) < upper))\n",
    "    return final_condition"
   ]
  },
  {
   "cell_type": "code",
   "execution_count": 94,
   "metadata": {},
   "outputs": [],
   "source": [
    "# valid_latitudes = valid_coordinate_bool([df['pickup_latitude'], df['dropoff_latitude']], 40.4, 41)\n",
    "# valid_longitudes = valid_coordinate_bool([df['pickup_longitude'], df['dropoff_longitude']], 73, 75)\n",
    "# valid_rows_bool = np.logical_and(valid_latitudes, valid_longitudes)\n",
    "valid_latitudes = valid_coordinate_bool([df['pickup_latitude'], df['dropoff_latitude']], 40.74, 40.76)\n",
    "valid_longitudes = valid_coordinate_bool([df['pickup_longitude'], df['dropoff_longitude']], 73.97, 73.99)\n",
    "valid_rows_bool = np.logical_and(valid_latitudes, valid_longitudes)"
   ]
  },
  {
   "cell_type": "code",
   "execution_count": 95,
   "metadata": {},
   "outputs": [
    {
     "data": {
      "text/plain": [
       "(678691, 14776615, 14097924)"
      ]
     },
     "execution_count": 95,
     "metadata": {},
     "output_type": "execute_result"
    }
   ],
   "source": [
    "np.count_nonzero(valid_rows_bool), len(df), len(df) - np.count_nonzero(valid_rows_bool)"
   ]
  },
  {
   "cell_type": "code",
   "execution_count": 120,
   "metadata": {},
   "outputs": [
    {
     "name": "stderr",
     "output_type": "stream",
     "text": [
      "/Users/imote/anaconda3/lib/python3.6/site-packages/ipykernel_launcher.py:2: SettingWithCopyWarning: \n",
      "A value is trying to be set on a copy of a slice from a DataFrame\n",
      "\n",
      "See the caveats in the documentation: http://pandas.pydata.org/pandas-docs/stable/user_guide/indexing.html#returning-a-view-versus-a-copy\n",
      "  \n",
      "/Users/imote/anaconda3/lib/python3.6/site-packages/ipykernel_launcher.py:3: SettingWithCopyWarning: \n",
      "A value is trying to be set on a copy of a slice from a DataFrame\n",
      "\n",
      "See the caveats in the documentation: http://pandas.pydata.org/pandas-docs/stable/user_guide/indexing.html#returning-a-view-versus-a-copy\n",
      "  This is separate from the ipykernel package so we can avoid doing imports until\n"
     ]
    },
    {
     "data": {
      "text/html": [
       "<div>\n",
       "<style scoped>\n",
       "    .dataframe tbody tr th:only-of-type {\n",
       "        vertical-align: middle;\n",
       "    }\n",
       "\n",
       "    .dataframe tbody tr th {\n",
       "        vertical-align: top;\n",
       "    }\n",
       "\n",
       "    .dataframe thead th {\n",
       "        text-align: right;\n",
       "    }\n",
       "</style>\n",
       "<table border=\"1\" class=\"dataframe\">\n",
       "  <thead>\n",
       "    <tr style=\"text-align: right;\">\n",
       "      <th></th>\n",
       "      <th>medallion</th>\n",
       "      <th>hack_license</th>\n",
       "      <th>vendor_id</th>\n",
       "      <th>rate_code</th>\n",
       "      <th>store_and_fwd_flag</th>\n",
       "      <th>pickup_datetime</th>\n",
       "      <th>dropoff_datetime</th>\n",
       "      <th>passenger_count</th>\n",
       "      <th>trip_time_in_secs</th>\n",
       "      <th>trip_distance</th>\n",
       "      <th>pickup_longitude</th>\n",
       "      <th>pickup_latitude</th>\n",
       "      <th>dropoff_longitude</th>\n",
       "      <th>dropoff_latitude</th>\n",
       "    </tr>\n",
       "  </thead>\n",
       "  <tbody>\n",
       "    <tr>\n",
       "      <th>0</th>\n",
       "      <td>89D227B655E5C82AECF13C3F540D4CF4</td>\n",
       "      <td>BA96DE419E711691B9445D6A6307C170</td>\n",
       "      <td>CMT</td>\n",
       "      <td>1</td>\n",
       "      <td>N</td>\n",
       "      <td>2013-01-01 15:11:48</td>\n",
       "      <td>2013-01-01 15:18:10</td>\n",
       "      <td>4</td>\n",
       "      <td>382</td>\n",
       "      <td>1.0</td>\n",
       "      <td>-73.978165</td>\n",
       "      <td>40.757977</td>\n",
       "      <td>-73.989838</td>\n",
       "      <td>40.751171</td>\n",
       "    </tr>\n",
       "    <tr>\n",
       "      <th>3</th>\n",
       "      <td>DFD2202EE08F7A8DC9A57B02ACB81FE2</td>\n",
       "      <td>51EE87E3205C985EF8431D850C786310</td>\n",
       "      <td>CMT</td>\n",
       "      <td>1</td>\n",
       "      <td>N</td>\n",
       "      <td>2013-01-07 23:54:15</td>\n",
       "      <td>2013-01-07 23:58:20</td>\n",
       "      <td>2</td>\n",
       "      <td>244</td>\n",
       "      <td>0.7</td>\n",
       "      <td>-73.974602</td>\n",
       "      <td>40.759945</td>\n",
       "      <td>-73.984734</td>\n",
       "      <td>40.759388</td>\n",
       "    </tr>\n",
       "    <tr>\n",
       "      <th>64</th>\n",
       "      <td>4728FA63A46613319446ED726626FED3</td>\n",
       "      <td>4A6C8D08FAB98E9C9B21399C5255EED0</td>\n",
       "      <td>CMT</td>\n",
       "      <td>1</td>\n",
       "      <td>N</td>\n",
       "      <td>2013-01-08 11:33:23</td>\n",
       "      <td>2013-01-08 11:48:13</td>\n",
       "      <td>1</td>\n",
       "      <td>889</td>\n",
       "      <td>0.6</td>\n",
       "      <td>-73.987732</td>\n",
       "      <td>40.751884</td>\n",
       "      <td>-73.981720</td>\n",
       "      <td>40.746529</td>\n",
       "    </tr>\n",
       "    <tr>\n",
       "      <th>66</th>\n",
       "      <td>0CC08DE5645A7137059499EA11886805</td>\n",
       "      <td>4F2627F9FD34A9B9EFCCFC5147048345</td>\n",
       "      <td>CMT</td>\n",
       "      <td>1</td>\n",
       "      <td>N</td>\n",
       "      <td>2013-01-07 18:45:14</td>\n",
       "      <td>2013-01-07 18:52:54</td>\n",
       "      <td>3</td>\n",
       "      <td>459</td>\n",
       "      <td>0.9</td>\n",
       "      <td>-73.979706</td>\n",
       "      <td>40.758427</td>\n",
       "      <td>-73.985558</td>\n",
       "      <td>40.747265</td>\n",
       "    </tr>\n",
       "    <tr>\n",
       "      <th>68</th>\n",
       "      <td>1159BD618BE1D4A90D522416A77AC29A</td>\n",
       "      <td>9964A99249A4888E2C6AE55BA78A6F64</td>\n",
       "      <td>CMT</td>\n",
       "      <td>1</td>\n",
       "      <td>N</td>\n",
       "      <td>2013-01-10 15:04:11</td>\n",
       "      <td>2013-01-10 15:07:35</td>\n",
       "      <td>1</td>\n",
       "      <td>204</td>\n",
       "      <td>0.7</td>\n",
       "      <td>-73.980118</td>\n",
       "      <td>40.754601</td>\n",
       "      <td>-73.988045</td>\n",
       "      <td>40.748962</td>\n",
       "    </tr>\n",
       "  </tbody>\n",
       "</table>\n",
       "</div>"
      ],
      "text/plain": [
       "                           medallion                      hack_license  \\\n",
       "0   89D227B655E5C82AECF13C3F540D4CF4  BA96DE419E711691B9445D6A6307C170   \n",
       "3   DFD2202EE08F7A8DC9A57B02ACB81FE2  51EE87E3205C985EF8431D850C786310   \n",
       "64  4728FA63A46613319446ED726626FED3  4A6C8D08FAB98E9C9B21399C5255EED0   \n",
       "66  0CC08DE5645A7137059499EA11886805  4F2627F9FD34A9B9EFCCFC5147048345   \n",
       "68  1159BD618BE1D4A90D522416A77AC29A  9964A99249A4888E2C6AE55BA78A6F64   \n",
       "\n",
       "   vendor_id  rate_code store_and_fwd_flag     pickup_datetime  \\\n",
       "0        CMT          1                  N 2013-01-01 15:11:48   \n",
       "3        CMT          1                  N 2013-01-07 23:54:15   \n",
       "64       CMT          1                  N 2013-01-08 11:33:23   \n",
       "66       CMT          1                  N 2013-01-07 18:45:14   \n",
       "68       CMT          1                  N 2013-01-10 15:04:11   \n",
       "\n",
       "       dropoff_datetime  passenger_count  trip_time_in_secs  trip_distance  \\\n",
       "0   2013-01-01 15:18:10                4                382            1.0   \n",
       "3   2013-01-07 23:58:20                2                244            0.7   \n",
       "64  2013-01-08 11:48:13                1                889            0.6   \n",
       "66  2013-01-07 18:52:54                3                459            0.9   \n",
       "68  2013-01-10 15:07:35                1                204            0.7   \n",
       "\n",
       "    pickup_longitude  pickup_latitude  dropoff_longitude  dropoff_latitude  \n",
       "0         -73.978165        40.757977         -73.989838         40.751171  \n",
       "3         -73.974602        40.759945         -73.984734         40.759388  \n",
       "64        -73.987732        40.751884         -73.981720         40.746529  \n",
       "66        -73.979706        40.758427         -73.985558         40.747265  \n",
       "68        -73.980118        40.754601         -73.988045         40.748962  "
      ]
     },
     "execution_count": 120,
     "metadata": {},
     "output_type": "execute_result"
    }
   ],
   "source": [
    "filtered_df = df.iloc[df.index[valid_rows_bool]]\n",
    "filtered_df['pickup_longitude'][filtered_df['pickup_longitude'] > 0] *= -1\n",
    "filtered_df['dropoff_longitude'][filtered_df['dropoff_longitude'] > 0] *= -1\n",
    "filtered_df.head()"
   ]
  },
  {
   "cell_type": "code",
   "execution_count": 121,
   "metadata": {},
   "outputs": [],
   "source": [
    "assert len(filtered_df) == np.count_nonzero(valid_rows_bool)"
   ]
  },
  {
   "cell_type": "code",
   "execution_count": 122,
   "metadata": {},
   "outputs": [],
   "source": [
    "drivers = np.unique(df['hack_license'])\n",
    "drivers_races = np.array(['black'] * len(drivers))\n",
    "drivers_gender = np.array(['m'] * len(drivers))\n",
    "random.seed(42)\n",
    "drivers_races[random.sample(list(np.arange(len(drivers))), k=int(len(drivers)/3))] = ['white'] # 2:1 black:white\n",
    "random.seed(42)\n",
    "drivers_gender[random.sample(list(np.arange(len(drivers))), k=int(len(drivers)/6))] = ['f'] # 5:1 males:females"
   ]
  },
  {
   "cell_type": "code",
   "execution_count": 123,
   "metadata": {},
   "outputs": [
    {
     "data": {
      "text/plain": [
       "array(['f', 'f', 'f', ..., 'f', 'f', 'f'], dtype='<U1')"
      ]
     },
     "execution_count": 123,
     "metadata": {},
     "output_type": "execute_result"
    }
   ],
   "source": [
    "random.seed(42)\n",
    "drivers_gender[random.sample(list(np.arange(len(drivers))), k=int(len(drivers)/6))]"
   ]
  },
  {
   "cell_type": "code",
   "execution_count": 124,
   "metadata": {},
   "outputs": [
    {
     "data": {
      "text/plain": [
       "(2.0000931012010055, 5.000744878957169)"
      ]
     },
     "execution_count": 124,
     "metadata": {},
     "output_type": "execute_result"
    }
   ],
   "source": [
    "hack_id_to_race = dict(zip(drivers, drivers_races))\n",
    "hack_id_to_gender = dict(zip(drivers, drivers_gender))\n",
    "(np.count_nonzero(drivers_races == 'black')/np.count_nonzero(drivers_races == 'white'), \n",
    " np.count_nonzero(drivers_gender == 'm')/np.count_nonzero(drivers_gender == 'f'))"
   ]
  },
  {
   "cell_type": "code",
   "execution_count": 125,
   "metadata": {},
   "outputs": [],
   "source": [
    "driver_race_series = filtered_df['hack_license'].map(hack_id_to_race)\n",
    "driver_gender_series = filtered_df['hack_license'].map(hack_id_to_gender)"
   ]
  },
  {
   "cell_type": "code",
   "execution_count": 126,
   "metadata": {},
   "outputs": [
    {
     "data": {
      "text/plain": [
       "(453942, 224749)"
      ]
     },
     "execution_count": 126,
     "metadata": {},
     "output_type": "execute_result"
    }
   ],
   "source": [
    "np.count_nonzero(driver_race_series == 'black'), np.count_nonzero(driver_race_series == 'white')"
   ]
  },
  {
   "cell_type": "code",
   "execution_count": 127,
   "metadata": {},
   "outputs": [
    {
     "name": "stderr",
     "output_type": "stream",
     "text": [
      "/Users/imote/anaconda3/lib/python3.6/site-packages/ipykernel_launcher.py:1: SettingWithCopyWarning: \n",
      "A value is trying to be set on a copy of a slice from a DataFrame.\n",
      "Try using .loc[row_indexer,col_indexer] = value instead\n",
      "\n",
      "See the caveats in the documentation: http://pandas.pydata.org/pandas-docs/stable/user_guide/indexing.html#returning-a-view-versus-a-copy\n",
      "  \"\"\"Entry point for launching an IPython kernel.\n",
      "/Users/imote/anaconda3/lib/python3.6/site-packages/ipykernel_launcher.py:2: SettingWithCopyWarning: \n",
      "A value is trying to be set on a copy of a slice from a DataFrame.\n",
      "Try using .loc[row_indexer,col_indexer] = value instead\n",
      "\n",
      "See the caveats in the documentation: http://pandas.pydata.org/pandas-docs/stable/user_guide/indexing.html#returning-a-view-versus-a-copy\n",
      "  \n"
     ]
    },
    {
     "data": {
      "text/html": [
       "<div>\n",
       "<style scoped>\n",
       "    .dataframe tbody tr th:only-of-type {\n",
       "        vertical-align: middle;\n",
       "    }\n",
       "\n",
       "    .dataframe tbody tr th {\n",
       "        vertical-align: top;\n",
       "    }\n",
       "\n",
       "    .dataframe thead th {\n",
       "        text-align: right;\n",
       "    }\n",
       "</style>\n",
       "<table border=\"1\" class=\"dataframe\">\n",
       "  <thead>\n",
       "    <tr style=\"text-align: right;\">\n",
       "      <th></th>\n",
       "      <th>medallion</th>\n",
       "      <th>hack_license</th>\n",
       "      <th>vendor_id</th>\n",
       "      <th>rate_code</th>\n",
       "      <th>store_and_fwd_flag</th>\n",
       "      <th>pickup_datetime</th>\n",
       "      <th>dropoff_datetime</th>\n",
       "      <th>passenger_count</th>\n",
       "      <th>trip_time_in_secs</th>\n",
       "      <th>trip_distance</th>\n",
       "      <th>pickup_longitude</th>\n",
       "      <th>pickup_latitude</th>\n",
       "      <th>dropoff_longitude</th>\n",
       "      <th>dropoff_latitude</th>\n",
       "      <th>driver_race</th>\n",
       "      <th>driver_gender</th>\n",
       "    </tr>\n",
       "  </thead>\n",
       "  <tbody>\n",
       "    <tr>\n",
       "      <th>0</th>\n",
       "      <td>89D227B655E5C82AECF13C3F540D4CF4</td>\n",
       "      <td>BA96DE419E711691B9445D6A6307C170</td>\n",
       "      <td>CMT</td>\n",
       "      <td>1</td>\n",
       "      <td>N</td>\n",
       "      <td>2013-01-01 15:11:48</td>\n",
       "      <td>2013-01-01 15:18:10</td>\n",
       "      <td>4</td>\n",
       "      <td>382</td>\n",
       "      <td>1.0</td>\n",
       "      <td>-73.978165</td>\n",
       "      <td>40.757977</td>\n",
       "      <td>-73.989838</td>\n",
       "      <td>40.751171</td>\n",
       "      <td>black</td>\n",
       "      <td>m</td>\n",
       "    </tr>\n",
       "    <tr>\n",
       "      <th>3</th>\n",
       "      <td>DFD2202EE08F7A8DC9A57B02ACB81FE2</td>\n",
       "      <td>51EE87E3205C985EF8431D850C786310</td>\n",
       "      <td>CMT</td>\n",
       "      <td>1</td>\n",
       "      <td>N</td>\n",
       "      <td>2013-01-07 23:54:15</td>\n",
       "      <td>2013-01-07 23:58:20</td>\n",
       "      <td>2</td>\n",
       "      <td>244</td>\n",
       "      <td>0.7</td>\n",
       "      <td>-73.974602</td>\n",
       "      <td>40.759945</td>\n",
       "      <td>-73.984734</td>\n",
       "      <td>40.759388</td>\n",
       "      <td>black</td>\n",
       "      <td>m</td>\n",
       "    </tr>\n",
       "    <tr>\n",
       "      <th>64</th>\n",
       "      <td>4728FA63A46613319446ED726626FED3</td>\n",
       "      <td>4A6C8D08FAB98E9C9B21399C5255EED0</td>\n",
       "      <td>CMT</td>\n",
       "      <td>1</td>\n",
       "      <td>N</td>\n",
       "      <td>2013-01-08 11:33:23</td>\n",
       "      <td>2013-01-08 11:48:13</td>\n",
       "      <td>1</td>\n",
       "      <td>889</td>\n",
       "      <td>0.6</td>\n",
       "      <td>-73.987732</td>\n",
       "      <td>40.751884</td>\n",
       "      <td>-73.981720</td>\n",
       "      <td>40.746529</td>\n",
       "      <td>black</td>\n",
       "      <td>m</td>\n",
       "    </tr>\n",
       "    <tr>\n",
       "      <th>66</th>\n",
       "      <td>0CC08DE5645A7137059499EA11886805</td>\n",
       "      <td>4F2627F9FD34A9B9EFCCFC5147048345</td>\n",
       "      <td>CMT</td>\n",
       "      <td>1</td>\n",
       "      <td>N</td>\n",
       "      <td>2013-01-07 18:45:14</td>\n",
       "      <td>2013-01-07 18:52:54</td>\n",
       "      <td>3</td>\n",
       "      <td>459</td>\n",
       "      <td>0.9</td>\n",
       "      <td>-73.979706</td>\n",
       "      <td>40.758427</td>\n",
       "      <td>-73.985558</td>\n",
       "      <td>40.747265</td>\n",
       "      <td>black</td>\n",
       "      <td>m</td>\n",
       "    </tr>\n",
       "    <tr>\n",
       "      <th>68</th>\n",
       "      <td>1159BD618BE1D4A90D522416A77AC29A</td>\n",
       "      <td>9964A99249A4888E2C6AE55BA78A6F64</td>\n",
       "      <td>CMT</td>\n",
       "      <td>1</td>\n",
       "      <td>N</td>\n",
       "      <td>2013-01-10 15:04:11</td>\n",
       "      <td>2013-01-10 15:07:35</td>\n",
       "      <td>1</td>\n",
       "      <td>204</td>\n",
       "      <td>0.7</td>\n",
       "      <td>-73.980118</td>\n",
       "      <td>40.754601</td>\n",
       "      <td>-73.988045</td>\n",
       "      <td>40.748962</td>\n",
       "      <td>black</td>\n",
       "      <td>m</td>\n",
       "    </tr>\n",
       "  </tbody>\n",
       "</table>\n",
       "</div>"
      ],
      "text/plain": [
       "                           medallion                      hack_license  \\\n",
       "0   89D227B655E5C82AECF13C3F540D4CF4  BA96DE419E711691B9445D6A6307C170   \n",
       "3   DFD2202EE08F7A8DC9A57B02ACB81FE2  51EE87E3205C985EF8431D850C786310   \n",
       "64  4728FA63A46613319446ED726626FED3  4A6C8D08FAB98E9C9B21399C5255EED0   \n",
       "66  0CC08DE5645A7137059499EA11886805  4F2627F9FD34A9B9EFCCFC5147048345   \n",
       "68  1159BD618BE1D4A90D522416A77AC29A  9964A99249A4888E2C6AE55BA78A6F64   \n",
       "\n",
       "   vendor_id  rate_code store_and_fwd_flag     pickup_datetime  \\\n",
       "0        CMT          1                  N 2013-01-01 15:11:48   \n",
       "3        CMT          1                  N 2013-01-07 23:54:15   \n",
       "64       CMT          1                  N 2013-01-08 11:33:23   \n",
       "66       CMT          1                  N 2013-01-07 18:45:14   \n",
       "68       CMT          1                  N 2013-01-10 15:04:11   \n",
       "\n",
       "       dropoff_datetime  passenger_count  trip_time_in_secs  trip_distance  \\\n",
       "0   2013-01-01 15:18:10                4                382            1.0   \n",
       "3   2013-01-07 23:58:20                2                244            0.7   \n",
       "64  2013-01-08 11:48:13                1                889            0.6   \n",
       "66  2013-01-07 18:52:54                3                459            0.9   \n",
       "68  2013-01-10 15:07:35                1                204            0.7   \n",
       "\n",
       "    pickup_longitude  pickup_latitude  dropoff_longitude  dropoff_latitude  \\\n",
       "0         -73.978165        40.757977         -73.989838         40.751171   \n",
       "3         -73.974602        40.759945         -73.984734         40.759388   \n",
       "64        -73.987732        40.751884         -73.981720         40.746529   \n",
       "66        -73.979706        40.758427         -73.985558         40.747265   \n",
       "68        -73.980118        40.754601         -73.988045         40.748962   \n",
       "\n",
       "   driver_race driver_gender  \n",
       "0        black             m  \n",
       "3        black             m  \n",
       "64       black             m  \n",
       "66       black             m  \n",
       "68       black             m  "
      ]
     },
     "execution_count": 127,
     "metadata": {},
     "output_type": "execute_result"
    }
   ],
   "source": [
    "filtered_df['driver_race'] = driver_race_series\n",
    "filtered_df['driver_gender'] = driver_gender_series\n",
    "filtered_df.head()"
   ]
  },
  {
   "cell_type": "code",
   "execution_count": 128,
   "metadata": {},
   "outputs": [
    {
     "name": "stdout",
     "output_type": "stream",
     "text": [
      "226230\n"
     ]
    }
   ],
   "source": [
    "requests_gender = np.array(['f'] * len(filtered_df))\n",
    "requests_race = np.array(['black'] * len(filtered_df))\n",
    "random.seed(42)\n",
    "requests_race[random.sample(list(np.arange(len(requests_race))), k=int(len(requests_race)/3))] = 'white'\n",
    "\n",
    "r1_indices = np.where(requests_race == 'black')[0]\n",
    "random.seed(42)\n",
    "random_choice_r1 = random.sample(list(r1_indices), k=int(len(r1_indices)/2))\n",
    "requests_gender[random_choice_r1] = 'm'\n",
    "print (np.count_nonzero(requests_gender == 'm'))\n",
    "assert np.count_nonzero(requests_gender == 'm') == len(random_choice_r1)\n",
    "r2_indices = np.where(requests_race == 'white')[0]\n",
    "random.seed(42)\n",
    "random_choice_r2 = random.sample(list(r2_indices), k=int(len(r2_indices)/2))\n",
    "requests_gender[random_choice_r2] = 'm'"
   ]
  },
  {
   "cell_type": "code",
   "execution_count": 129,
   "metadata": {},
   "outputs": [],
   "source": [
    "assert len(r1_indices) + len(r2_indices) == len(requests_race)\n",
    "assert len(set(list(r1_indices)).intersection(set(list(r2_indices)))) == 0\n",
    "assert len(set(list(random_choice_r1)).intersection(set(list(random_choice_r2)))) == 0"
   ]
  },
  {
   "cell_type": "code",
   "execution_count": 130,
   "metadata": {},
   "outputs": [
    {
     "data": {
      "text/plain": [
       "(339345, 339346, 226230, 452461)"
      ]
     },
     "execution_count": 130,
     "metadata": {},
     "output_type": "execute_result"
    }
   ],
   "source": [
    "(np.count_nonzero(requests_gender == 'm'), np.count_nonzero(requests_gender == 'f'),\n",
    "     np.count_nonzero(requests_race == 'white'), np.count_nonzero(requests_race == 'black'))"
   ]
  },
  {
   "cell_type": "code",
   "execution_count": 131,
   "metadata": {},
   "outputs": [
    {
     "name": "stderr",
     "output_type": "stream",
     "text": [
      "/Users/imote/anaconda3/lib/python3.6/site-packages/ipykernel_launcher.py:1: SettingWithCopyWarning: \n",
      "A value is trying to be set on a copy of a slice from a DataFrame.\n",
      "Try using .loc[row_indexer,col_indexer] = value instead\n",
      "\n",
      "See the caveats in the documentation: http://pandas.pydata.org/pandas-docs/stable/user_guide/indexing.html#returning-a-view-versus-a-copy\n",
      "  \"\"\"Entry point for launching an IPython kernel.\n",
      "/Users/imote/anaconda3/lib/python3.6/site-packages/ipykernel_launcher.py:2: SettingWithCopyWarning: \n",
      "A value is trying to be set on a copy of a slice from a DataFrame.\n",
      "Try using .loc[row_indexer,col_indexer] = value instead\n",
      "\n",
      "See the caveats in the documentation: http://pandas.pydata.org/pandas-docs/stable/user_guide/indexing.html#returning-a-view-versus-a-copy\n",
      "  \n"
     ]
    },
    {
     "data": {
      "text/html": [
       "<div>\n",
       "<style scoped>\n",
       "    .dataframe tbody tr th:only-of-type {\n",
       "        vertical-align: middle;\n",
       "    }\n",
       "\n",
       "    .dataframe tbody tr th {\n",
       "        vertical-align: top;\n",
       "    }\n",
       "\n",
       "    .dataframe thead th {\n",
       "        text-align: right;\n",
       "    }\n",
       "</style>\n",
       "<table border=\"1\" class=\"dataframe\">\n",
       "  <thead>\n",
       "    <tr style=\"text-align: right;\">\n",
       "      <th></th>\n",
       "      <th>medallion</th>\n",
       "      <th>hack_license</th>\n",
       "      <th>vendor_id</th>\n",
       "      <th>rate_code</th>\n",
       "      <th>store_and_fwd_flag</th>\n",
       "      <th>pickup_datetime</th>\n",
       "      <th>dropoff_datetime</th>\n",
       "      <th>passenger_count</th>\n",
       "      <th>trip_time_in_secs</th>\n",
       "      <th>trip_distance</th>\n",
       "      <th>pickup_longitude</th>\n",
       "      <th>pickup_latitude</th>\n",
       "      <th>dropoff_longitude</th>\n",
       "      <th>dropoff_latitude</th>\n",
       "      <th>driver_race</th>\n",
       "      <th>driver_gender</th>\n",
       "      <th>requests_gender</th>\n",
       "      <th>requests_race</th>\n",
       "    </tr>\n",
       "  </thead>\n",
       "  <tbody>\n",
       "    <tr>\n",
       "      <th>0</th>\n",
       "      <td>89D227B655E5C82AECF13C3F540D4CF4</td>\n",
       "      <td>BA96DE419E711691B9445D6A6307C170</td>\n",
       "      <td>CMT</td>\n",
       "      <td>1</td>\n",
       "      <td>N</td>\n",
       "      <td>2013-01-01 15:11:48</td>\n",
       "      <td>2013-01-01 15:18:10</td>\n",
       "      <td>4</td>\n",
       "      <td>382</td>\n",
       "      <td>1.0</td>\n",
       "      <td>-73.978165</td>\n",
       "      <td>40.757977</td>\n",
       "      <td>-73.989838</td>\n",
       "      <td>40.751171</td>\n",
       "      <td>black</td>\n",
       "      <td>m</td>\n",
       "      <td>f</td>\n",
       "      <td>black</td>\n",
       "    </tr>\n",
       "    <tr>\n",
       "      <th>3</th>\n",
       "      <td>DFD2202EE08F7A8DC9A57B02ACB81FE2</td>\n",
       "      <td>51EE87E3205C985EF8431D850C786310</td>\n",
       "      <td>CMT</td>\n",
       "      <td>1</td>\n",
       "      <td>N</td>\n",
       "      <td>2013-01-07 23:54:15</td>\n",
       "      <td>2013-01-07 23:58:20</td>\n",
       "      <td>2</td>\n",
       "      <td>244</td>\n",
       "      <td>0.7</td>\n",
       "      <td>-73.974602</td>\n",
       "      <td>40.759945</td>\n",
       "      <td>-73.984734</td>\n",
       "      <td>40.759388</td>\n",
       "      <td>black</td>\n",
       "      <td>m</td>\n",
       "      <td>f</td>\n",
       "      <td>black</td>\n",
       "    </tr>\n",
       "    <tr>\n",
       "      <th>64</th>\n",
       "      <td>4728FA63A46613319446ED726626FED3</td>\n",
       "      <td>4A6C8D08FAB98E9C9B21399C5255EED0</td>\n",
       "      <td>CMT</td>\n",
       "      <td>1</td>\n",
       "      <td>N</td>\n",
       "      <td>2013-01-08 11:33:23</td>\n",
       "      <td>2013-01-08 11:48:13</td>\n",
       "      <td>1</td>\n",
       "      <td>889</td>\n",
       "      <td>0.6</td>\n",
       "      <td>-73.987732</td>\n",
       "      <td>40.751884</td>\n",
       "      <td>-73.981720</td>\n",
       "      <td>40.746529</td>\n",
       "      <td>black</td>\n",
       "      <td>m</td>\n",
       "      <td>f</td>\n",
       "      <td>black</td>\n",
       "    </tr>\n",
       "    <tr>\n",
       "      <th>66</th>\n",
       "      <td>0CC08DE5645A7137059499EA11886805</td>\n",
       "      <td>4F2627F9FD34A9B9EFCCFC5147048345</td>\n",
       "      <td>CMT</td>\n",
       "      <td>1</td>\n",
       "      <td>N</td>\n",
       "      <td>2013-01-07 18:45:14</td>\n",
       "      <td>2013-01-07 18:52:54</td>\n",
       "      <td>3</td>\n",
       "      <td>459</td>\n",
       "      <td>0.9</td>\n",
       "      <td>-73.979706</td>\n",
       "      <td>40.758427</td>\n",
       "      <td>-73.985558</td>\n",
       "      <td>40.747265</td>\n",
       "      <td>black</td>\n",
       "      <td>m</td>\n",
       "      <td>m</td>\n",
       "      <td>black</td>\n",
       "    </tr>\n",
       "    <tr>\n",
       "      <th>68</th>\n",
       "      <td>1159BD618BE1D4A90D522416A77AC29A</td>\n",
       "      <td>9964A99249A4888E2C6AE55BA78A6F64</td>\n",
       "      <td>CMT</td>\n",
       "      <td>1</td>\n",
       "      <td>N</td>\n",
       "      <td>2013-01-10 15:04:11</td>\n",
       "      <td>2013-01-10 15:07:35</td>\n",
       "      <td>1</td>\n",
       "      <td>204</td>\n",
       "      <td>0.7</td>\n",
       "      <td>-73.980118</td>\n",
       "      <td>40.754601</td>\n",
       "      <td>-73.988045</td>\n",
       "      <td>40.748962</td>\n",
       "      <td>black</td>\n",
       "      <td>m</td>\n",
       "      <td>m</td>\n",
       "      <td>black</td>\n",
       "    </tr>\n",
       "  </tbody>\n",
       "</table>\n",
       "</div>"
      ],
      "text/plain": [
       "                           medallion                      hack_license  \\\n",
       "0   89D227B655E5C82AECF13C3F540D4CF4  BA96DE419E711691B9445D6A6307C170   \n",
       "3   DFD2202EE08F7A8DC9A57B02ACB81FE2  51EE87E3205C985EF8431D850C786310   \n",
       "64  4728FA63A46613319446ED726626FED3  4A6C8D08FAB98E9C9B21399C5255EED0   \n",
       "66  0CC08DE5645A7137059499EA11886805  4F2627F9FD34A9B9EFCCFC5147048345   \n",
       "68  1159BD618BE1D4A90D522416A77AC29A  9964A99249A4888E2C6AE55BA78A6F64   \n",
       "\n",
       "   vendor_id  rate_code store_and_fwd_flag     pickup_datetime  \\\n",
       "0        CMT          1                  N 2013-01-01 15:11:48   \n",
       "3        CMT          1                  N 2013-01-07 23:54:15   \n",
       "64       CMT          1                  N 2013-01-08 11:33:23   \n",
       "66       CMT          1                  N 2013-01-07 18:45:14   \n",
       "68       CMT          1                  N 2013-01-10 15:04:11   \n",
       "\n",
       "       dropoff_datetime  passenger_count  trip_time_in_secs  trip_distance  \\\n",
       "0   2013-01-01 15:18:10                4                382            1.0   \n",
       "3   2013-01-07 23:58:20                2                244            0.7   \n",
       "64  2013-01-08 11:48:13                1                889            0.6   \n",
       "66  2013-01-07 18:52:54                3                459            0.9   \n",
       "68  2013-01-10 15:07:35                1                204            0.7   \n",
       "\n",
       "    pickup_longitude  pickup_latitude  dropoff_longitude  dropoff_latitude  \\\n",
       "0         -73.978165        40.757977         -73.989838         40.751171   \n",
       "3         -73.974602        40.759945         -73.984734         40.759388   \n",
       "64        -73.987732        40.751884         -73.981720         40.746529   \n",
       "66        -73.979706        40.758427         -73.985558         40.747265   \n",
       "68        -73.980118        40.754601         -73.988045         40.748962   \n",
       "\n",
       "   driver_race driver_gender requests_gender requests_race  \n",
       "0        black             m               f         black  \n",
       "3        black             m               f         black  \n",
       "64       black             m               f         black  \n",
       "66       black             m               m         black  \n",
       "68       black             m               m         black  "
      ]
     },
     "execution_count": 131,
     "metadata": {},
     "output_type": "execute_result"
    }
   ],
   "source": [
    "filtered_df['requests_gender'] = requests_gender\n",
    "filtered_df['requests_race'] = requests_race\n",
    "filtered_df.head()"
   ]
  },
  {
   "cell_type": "code",
   "execution_count": 132,
   "metadata": {},
   "outputs": [],
   "source": [
    "filtered_df = filtered_df[filtered_df['pickup_datetime'].dt.hour == 19]"
   ]
  },
  {
   "cell_type": "code",
   "execution_count": 133,
   "metadata": {},
   "outputs": [],
   "source": [
    "# len(filtered_df)"
   ]
  },
  {
   "cell_type": "code",
   "execution_count": 134,
   "metadata": {},
   "outputs": [],
   "source": [
    "min_latitude = min(np.min(filtered_df['pickup_latitude']), np.min(filtered_df['dropoff_latitude']))\n",
    "max_latitude = max(np.max(filtered_df['pickup_latitude']), np.max(filtered_df['dropoff_latitude']))\n",
    "min_longitude = min(np.min(filtered_df['pickup_longitude']), np.min(filtered_df['dropoff_longitude']))\n",
    "max_longitude = max(np.max(filtered_df['pickup_longitude']), np.max(filtered_df['dropoff_longitude']))"
   ]
  },
  {
   "cell_type": "code",
   "execution_count": 135,
   "metadata": {},
   "outputs": [
    {
     "data": {
      "text/plain": [
       "(array([-73.989998, -73.988098, -73.986198, -73.984298, -73.982398,\n",
       "        -73.980498, -73.978598, -73.976698, -73.974798, -73.972898,\n",
       "        -73.970998]),\n",
       " array([40.740002, 40.741902, 40.743802, 40.745702, 40.747602, 40.749502,\n",
       "        40.751402, 40.753302, 40.755202, 40.757102, 40.759002]))"
      ]
     },
     "execution_count": 135,
     "metadata": {},
     "output_type": "execute_result"
    }
   ],
   "source": [
    "# np.arange(min_longitude, max_longitude, 0.05), np.arange(min_latitude, max_latitude, 0.05)\n",
    "# max_longitude = -74.48333\n",
    "# max_latitude = 40.900002\n",
    "np.arange(min_longitude, max_longitude, 0.0019), np.arange(min_latitude, max_latitude, 0.0019)"
   ]
  },
  {
   "cell_type": "code",
   "execution_count": 136,
   "metadata": {},
   "outputs": [],
   "source": [
    "def coordinates_to_bin(val, coordinate_type):\n",
    "    steps = (val - min_latitude)/0.0019 if coordinate_type == 'latitude' else (val - min_longitude)/0.0019\n",
    "#     if np.isclose(int(steps), steps, rtol=0, atol=0.00000001):\n",
    "#         steps += 1\n",
    "    return int(steps)"
   ]
  },
  {
   "cell_type": "code",
   "execution_count": 137,
   "metadata": {},
   "outputs": [
    {
     "data": {
      "application/vnd.jupyter.widget-view+json": {
       "model_id": "d9a8b58e22284ad1b96219edb7c0b782",
       "version_major": 2,
       "version_minor": 0
      },
      "text/plain": [
       "HBox(children=(FloatProgress(value=0.0, description='Pandas Apply', max=39948.0, style=ProgressStyle(descripti…"
      ]
     },
     "metadata": {},
     "output_type": "display_data"
    },
    {
     "name": "stdout",
     "output_type": "stream",
     "text": [
      "\n"
     ]
    },
    {
     "data": {
      "application/vnd.jupyter.widget-view+json": {
       "model_id": "4ec20d75852247ed98ec8672c67b40d0",
       "version_major": 2,
       "version_minor": 0
      },
      "text/plain": [
       "HBox(children=(FloatProgress(value=0.0, description='Pandas Apply', max=39948.0, style=ProgressStyle(descripti…"
      ]
     },
     "metadata": {},
     "output_type": "display_data"
    },
    {
     "name": "stdout",
     "output_type": "stream",
     "text": [
      "\n"
     ]
    },
    {
     "data": {
      "application/vnd.jupyter.widget-view+json": {
       "model_id": "037564b3589d431b98d304d0a015147d",
       "version_major": 2,
       "version_minor": 0
      },
      "text/plain": [
       "HBox(children=(FloatProgress(value=0.0, description='Pandas Apply', max=39948.0, style=ProgressStyle(descripti…"
      ]
     },
     "metadata": {},
     "output_type": "display_data"
    },
    {
     "name": "stdout",
     "output_type": "stream",
     "text": [
      "\n"
     ]
    },
    {
     "data": {
      "application/vnd.jupyter.widget-view+json": {
       "model_id": "2051d7f6ca0946d19e1cc7cb585c734f",
       "version_major": 2,
       "version_minor": 0
      },
      "text/plain": [
       "HBox(children=(FloatProgress(value=0.0, description='Pandas Apply', max=39948.0, style=ProgressStyle(descripti…"
      ]
     },
     "metadata": {},
     "output_type": "display_data"
    },
    {
     "name": "stdout",
     "output_type": "stream",
     "text": [
      "\n"
     ]
    }
   ],
   "source": [
    "filtered_df['pickup_lat_bin'] = filtered_df['pickup_latitude'].swifter.apply(coordinates_to_bin, args=('latitude',))\n",
    "filtered_df['pickup_long_bin'] = filtered_df['pickup_longitude'].swifter.apply(coordinates_to_bin, args=('longitude',))\n",
    "filtered_df['dropoff_lat_bin'] = filtered_df['dropoff_latitude'].swifter.apply(coordinates_to_bin, args=('latitude',))\n",
    "filtered_df['dropoff_long_bin'] = filtered_df['dropoff_longitude'].swifter.apply(coordinates_to_bin, args=('longitude',))"
   ]
  },
  {
   "cell_type": "code",
   "execution_count": 138,
   "metadata": {},
   "outputs": [
    {
     "data": {
      "text/html": [
       "<div>\n",
       "<style scoped>\n",
       "    .dataframe tbody tr th:only-of-type {\n",
       "        vertical-align: middle;\n",
       "    }\n",
       "\n",
       "    .dataframe tbody tr th {\n",
       "        vertical-align: top;\n",
       "    }\n",
       "\n",
       "    .dataframe thead th {\n",
       "        text-align: right;\n",
       "    }\n",
       "</style>\n",
       "<table border=\"1\" class=\"dataframe\">\n",
       "  <thead>\n",
       "    <tr style=\"text-align: right;\">\n",
       "      <th></th>\n",
       "      <th>medallion</th>\n",
       "      <th>hack_license</th>\n",
       "      <th>vendor_id</th>\n",
       "      <th>rate_code</th>\n",
       "      <th>store_and_fwd_flag</th>\n",
       "      <th>pickup_datetime</th>\n",
       "      <th>dropoff_datetime</th>\n",
       "      <th>passenger_count</th>\n",
       "      <th>trip_time_in_secs</th>\n",
       "      <th>trip_distance</th>\n",
       "      <th>...</th>\n",
       "      <th>dropoff_longitude</th>\n",
       "      <th>dropoff_latitude</th>\n",
       "      <th>driver_race</th>\n",
       "      <th>driver_gender</th>\n",
       "      <th>requests_gender</th>\n",
       "      <th>requests_race</th>\n",
       "      <th>pickup_lat_bin</th>\n",
       "      <th>pickup_long_bin</th>\n",
       "      <th>dropoff_lat_bin</th>\n",
       "      <th>dropoff_long_bin</th>\n",
       "    </tr>\n",
       "  </thead>\n",
       "  <tbody>\n",
       "    <tr>\n",
       "      <th>17848</th>\n",
       "      <td>4FD308879BBF08AC228ED8AB9D834738</td>\n",
       "      <td>30ECA3C001E94AAABC213E2520C40F15</td>\n",
       "      <td>CMT</td>\n",
       "      <td>1</td>\n",
       "      <td>N</td>\n",
       "      <td>2013-01-18 19:39:47</td>\n",
       "      <td>2013-01-18 19:43:38</td>\n",
       "      <td>1</td>\n",
       "      <td>231</td>\n",
       "      <td>0.40</td>\n",
       "      <td>...</td>\n",
       "      <td>-73.976974</td>\n",
       "      <td>40.752090</td>\n",
       "      <td>black</td>\n",
       "      <td>m</td>\n",
       "      <td>f</td>\n",
       "      <td>black</td>\n",
       "      <td>3</td>\n",
       "      <td>6</td>\n",
       "      <td>6</td>\n",
       "      <td>6</td>\n",
       "    </tr>\n",
       "    <tr>\n",
       "      <th>18801</th>\n",
       "      <td>ECD4B9E380041AF2E159BD9993020EDF</td>\n",
       "      <td>145B7ABDF85230E96FC7FBF091C3F6C9</td>\n",
       "      <td>CMT</td>\n",
       "      <td>1</td>\n",
       "      <td>N</td>\n",
       "      <td>2013-01-18 19:45:33</td>\n",
       "      <td>2013-01-18 19:49:35</td>\n",
       "      <td>1</td>\n",
       "      <td>242</td>\n",
       "      <td>0.80</td>\n",
       "      <td>...</td>\n",
       "      <td>-73.971077</td>\n",
       "      <td>40.755768</td>\n",
       "      <td>black</td>\n",
       "      <td>m</td>\n",
       "      <td>f</td>\n",
       "      <td>black</td>\n",
       "      <td>3</td>\n",
       "      <td>6</td>\n",
       "      <td>8</td>\n",
       "      <td>9</td>\n",
       "    </tr>\n",
       "    <tr>\n",
       "      <th>79069</th>\n",
       "      <td>873562ABA9FEBB12CFEA925E0CCB8077</td>\n",
       "      <td>60E596E5AEE82B0E1A32707BB9B3C4C1</td>\n",
       "      <td>CMT</td>\n",
       "      <td>1</td>\n",
       "      <td>N</td>\n",
       "      <td>2013-01-19 19:27:33</td>\n",
       "      <td>2013-01-19 19:34:57</td>\n",
       "      <td>1</td>\n",
       "      <td>444</td>\n",
       "      <td>1.60</td>\n",
       "      <td>...</td>\n",
       "      <td>-73.986595</td>\n",
       "      <td>40.740330</td>\n",
       "      <td>black</td>\n",
       "      <td>m</td>\n",
       "      <td>m</td>\n",
       "      <td>black</td>\n",
       "      <td>10</td>\n",
       "      <td>7</td>\n",
       "      <td>0</td>\n",
       "      <td>1</td>\n",
       "    </tr>\n",
       "    <tr>\n",
       "      <th>93850</th>\n",
       "      <td>323CFA8722F8D8E1CC90FF3C6FE3964B</td>\n",
       "      <td>F5AC5A461DB81015FC714A0BD46AD493</td>\n",
       "      <td>VTS</td>\n",
       "      <td>1</td>\n",
       "      <td>NaN</td>\n",
       "      <td>2013-01-13 19:14:00</td>\n",
       "      <td>2013-01-13 19:27:00</td>\n",
       "      <td>1</td>\n",
       "      <td>780</td>\n",
       "      <td>1.93</td>\n",
       "      <td>...</td>\n",
       "      <td>-73.974083</td>\n",
       "      <td>40.742924</td>\n",
       "      <td>black</td>\n",
       "      <td>m</td>\n",
       "      <td>f</td>\n",
       "      <td>black</td>\n",
       "      <td>8</td>\n",
       "      <td>0</td>\n",
       "      <td>1</td>\n",
       "      <td>8</td>\n",
       "    </tr>\n",
       "    <tr>\n",
       "      <th>93851</th>\n",
       "      <td>D9BC809E02CE49151DC3BE6FD5715EA4</td>\n",
       "      <td>2A3A711D0A22772253B7C5BD88E086B7</td>\n",
       "      <td>VTS</td>\n",
       "      <td>1</td>\n",
       "      <td>NaN</td>\n",
       "      <td>2013-01-13 19:18:00</td>\n",
       "      <td>2013-01-13 19:29:00</td>\n",
       "      <td>6</td>\n",
       "      <td>660</td>\n",
       "      <td>1.39</td>\n",
       "      <td>...</td>\n",
       "      <td>-73.985954</td>\n",
       "      <td>40.757767</td>\n",
       "      <td>black</td>\n",
       "      <td>m</td>\n",
       "      <td>m</td>\n",
       "      <td>white</td>\n",
       "      <td>10</td>\n",
       "      <td>2</td>\n",
       "      <td>9</td>\n",
       "      <td>2</td>\n",
       "    </tr>\n",
       "  </tbody>\n",
       "</table>\n",
       "<p>5 rows × 22 columns</p>\n",
       "</div>"
      ],
      "text/plain": [
       "                              medallion                      hack_license  \\\n",
       "17848  4FD308879BBF08AC228ED8AB9D834738  30ECA3C001E94AAABC213E2520C40F15   \n",
       "18801  ECD4B9E380041AF2E159BD9993020EDF  145B7ABDF85230E96FC7FBF091C3F6C9   \n",
       "79069  873562ABA9FEBB12CFEA925E0CCB8077  60E596E5AEE82B0E1A32707BB9B3C4C1   \n",
       "93850  323CFA8722F8D8E1CC90FF3C6FE3964B  F5AC5A461DB81015FC714A0BD46AD493   \n",
       "93851  D9BC809E02CE49151DC3BE6FD5715EA4  2A3A711D0A22772253B7C5BD88E086B7   \n",
       "\n",
       "      vendor_id  rate_code store_and_fwd_flag     pickup_datetime  \\\n",
       "17848       CMT          1                  N 2013-01-18 19:39:47   \n",
       "18801       CMT          1                  N 2013-01-18 19:45:33   \n",
       "79069       CMT          1                  N 2013-01-19 19:27:33   \n",
       "93850       VTS          1                NaN 2013-01-13 19:14:00   \n",
       "93851       VTS          1                NaN 2013-01-13 19:18:00   \n",
       "\n",
       "          dropoff_datetime  passenger_count  trip_time_in_secs  trip_distance  \\\n",
       "17848  2013-01-18 19:43:38                1                231           0.40   \n",
       "18801  2013-01-18 19:49:35                1                242           0.80   \n",
       "79069  2013-01-19 19:34:57                1                444           1.60   \n",
       "93850  2013-01-13 19:27:00                1                780           1.93   \n",
       "93851  2013-01-13 19:29:00                6                660           1.39   \n",
       "\n",
       "       ...  dropoff_longitude  dropoff_latitude  driver_race  driver_gender  \\\n",
       "17848  ...         -73.976974         40.752090        black              m   \n",
       "18801  ...         -73.971077         40.755768        black              m   \n",
       "79069  ...         -73.986595         40.740330        black              m   \n",
       "93850  ...         -73.974083         40.742924        black              m   \n",
       "93851  ...         -73.985954         40.757767        black              m   \n",
       "\n",
       "      requests_gender requests_race pickup_lat_bin pickup_long_bin  \\\n",
       "17848               f         black              3               6   \n",
       "18801               f         black              3               6   \n",
       "79069               m         black             10               7   \n",
       "93850               f         black              8               0   \n",
       "93851               m         white             10               2   \n",
       "\n",
       "       dropoff_lat_bin  dropoff_long_bin  \n",
       "17848                6                 6  \n",
       "18801                8                 9  \n",
       "79069                0                 1  \n",
       "93850                1                 8  \n",
       "93851                9                 2  \n",
       "\n",
       "[5 rows x 22 columns]"
      ]
     },
     "execution_count": 138,
     "metadata": {},
     "output_type": "execute_result"
    }
   ],
   "source": [
    "filtered_df.head()"
   ]
  },
  {
   "cell_type": "code",
   "execution_count": 139,
   "metadata": {},
   "outputs": [],
   "source": [
    "# fdf = filtered_df.groupby(['pickup_lat_bin','pickup_long_bin','dropoff_lat_bin','dropoff_long_bin']).size().reset_index(name='counts')\n",
    "fdf = filtered_df.groupby(['pickup_lat_bin','pickup_long_bin']).size().reset_index(name='counts')"
   ]
  },
  {
   "cell_type": "code",
   "execution_count": 140,
   "metadata": {},
   "outputs": [],
   "source": [
    "fdf.to_csv('pp_test_data.csv', index=False)"
   ]
  },
  {
   "cell_type": "code",
   "execution_count": null,
   "metadata": {},
   "outputs": [],
   "source": [
    "# filtered_df.to_csv('trip_data_1_filtered.csv', index=False)"
   ]
  },
  {
   "cell_type": "code",
   "execution_count": null,
   "metadata": {},
   "outputs": [],
   "source": []
  }
 ],
 "metadata": {
  "kernelspec": {
   "display_name": "Python 3",
   "language": "python",
   "name": "python3"
  },
  "language_info": {
   "codemirror_mode": {
    "name": "ipython",
    "version": 3
   },
   "file_extension": ".py",
   "mimetype": "text/x-python",
   "name": "python",
   "nbconvert_exporter": "python",
   "pygments_lexer": "ipython3",
   "version": "3.6.8"
  }
 },
 "nbformat": 4,
 "nbformat_minor": 2
}
