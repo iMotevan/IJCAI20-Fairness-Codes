{
 "cells": [
  {
   "cell_type": "code",
   "execution_count": 23,
   "metadata": {},
   "outputs": [],
   "source": [
    "import numpy as np\n",
    "import pandas as pd\n",
    "import random, copy, os\n",
    "from matplotlib import pyplot as plt\n",
    "from multiprocessing import Pool\n",
    "import multiprocessing\n",
    "import time\n",
    "import math\n",
    "from cvxopt.base import matrix\n",
    "from cvxopt.modeling import op, dot, variable, max, min"
   ]
  },
  {
   "cell_type": "code",
   "execution_count": 24,
   "metadata": {},
   "outputs": [],
   "source": [
    "def coordinate_to_index(i, j, matrix):\n",
    "    edges_count = np.count_nonzero(matrix[:i,:] != 0) + np.count_nonzero(matrix[i,:j] != 0)\n",
    "    return edges_count\n",
    "\n",
    "def index_to_coordinate(idx, matrix):\n",
    "    return list(zip(*np.where(matrix != 0)))[idx]"
   ]
  },
  {
   "cell_type": "code",
   "execution_count": 45,
   "metadata": {},
   "outputs": [],
   "source": [
    "plt.rcParams['font.size'] = 14\n",
    "plt.rcParams['pdf.fonttype'] = 42\n",
    "plt.rcParams['ps.fonttype'] = 42\n",
    "plt.rcParams['axes.labelsize'] = 22\n",
    "plt.rcParams['axes.labelweight'] = 'bold'\n",
    "plt.rcParams['axes.titlesize'] = 19\n",
    "plt.rcParams['axes.linewidth'] = 3\n",
    "plt.rcParams['xtick.labelsize'] = 14\n",
    "plt.rcParams['ytick.labelsize'] = 14\n",
    "plt.rcParams['legend.fontsize'] = 15\n",
    "plt.rcParams['figure.titlesize'] = 22\n",
    "plt.rcParams['lines.linewidth'] = 2.0"
   ]
  },
  {
   "cell_type": "code",
   "execution_count": 53,
   "metadata": {},
   "outputs": [],
   "source": [
    "U_num = 50\n",
    "V_num = 50\n",
    "T = 100\n",
    "edge_exist_probability = 0.1\n",
    "B_u_max = 10\n",
    "p_f_min = 0.5\n",
    "Delta = 1\n",
    "filename = 'Syn_Bumax_{}Delta_{}'.format(B_u_max, Delta)"
   ]
  },
  {
   "cell_type": "code",
   "execution_count": 26,
   "metadata": {},
   "outputs": [],
   "source": [
    "F = np.zeros((U_num,V_num))\n",
    "np.random.seed(1)\n",
    "F[np.random.rand(U_num,V_num) < edge_exist_probability] = 1\n",
    "F_num = np.count_nonzero(F != 0)\n",
    "B_u = np.random.randint(1,B_u_max+1,size=U_num)\n",
    "p_f = p_f_min + np.random.rand(F_num) / 2\n",
    "w_f = np.random.rand(F_num) / 2\n",
    "r_v = np.random.rand(V_num)\n",
    "r_v = np.round(r_v / np.sum(r_v) * T)\n",
    "p_v = r_v / np.sum(r_v)"
   ]
  },
  {
   "cell_type": "code",
   "execution_count": 27,
   "metadata": {},
   "outputs": [],
   "source": [
    "E_u = np.zeros((U_num,F_num), dtype=np.float)\n",
    "E_v = np.zeros((V_num,F_num), dtype=np.float)\n",
    "E_u_D = np.zeros((U_num,F_num), dtype=np.float)\n",
    "E_u_D1 = np.zeros((U_num,F_num), dtype=np.float)\n",
    "E_u_D2 = np.zeros((U_num,F_num), dtype=np.float)\n",
    "E_v_D1 = np.zeros((V_num,F_num), dtype=np.float)\n",
    "c = -1\n",
    "for u in range(U_num):\n",
    "    for v in range(V_num):\n",
    "        if F[u,v] != 0:\n",
    "            c += 1\n",
    "            E_u[u,c] = 1\n",
    "            E_v[v,c] = 1\n",
    "            E_u_D[u,c] = p_f[c] / B_u[u]\n",
    "            E_u_D1[u,c] = p_f[c]\n",
    "            E_u_D2[u,c] = 1 / B_u[u]\n",
    "            E_v_D1[v,c] = p_f[c]"
   ]
  },
  {
   "cell_type": "code",
   "execution_count": 28,
   "metadata": {},
   "outputs": [],
   "source": [
    "x_f1 = variable(F_num)\n",
    "x_f2 = variable(F_num)"
   ]
  },
  {
   "cell_type": "code",
   "execution_count": 29,
   "metadata": {},
   "outputs": [],
   "source": [
    "profit_OBJ = -1 * np.sum(dot(matrix(w_f * p_f),x_f1))\n",
    "fairness_OBJ = max(-1 * matrix(E_u_D) * x_f2)"
   ]
  },
  {
   "cell_type": "code",
   "execution_count": 30,
   "metadata": {},
   "outputs": [],
   "source": [
    "ineq1 = []\n",
    "ineq1.append(matrix(E_u_D1) * x_f1 <= matrix(B_u.flatten().astype('float')))\n",
    "ineq1.append(matrix(E_v) * x_f1 <= Delta * matrix(r_v.astype('float')))\n",
    "ineq1.append(matrix(E_v_D1) * x_f1 <= matrix(r_v.astype('float')))\n",
    "ineq1.append(matrix(E_v) * x_f1 <= matrix(r_v.astype('float')))\n",
    "ineq1.append(x_f1 >= 0)\n",
    "ineq2 = []\n",
    "ineq2.append(matrix(E_u_D1) * x_f2 <= matrix(B_u.flatten().astype('float')))\n",
    "ineq2.append(matrix(E_v) * x_f2 <= Delta * matrix(r_v.astype('float')))\n",
    "ineq2.append(matrix(E_v_D1) * x_f2 <= matrix(r_v.astype('float')))\n",
    "ineq2.append(matrix(E_v) * x_f2 <= matrix(r_v.astype('float')))\n",
    "ineq2.append(x_f2 >= 0)"
   ]
  },
  {
   "cell_type": "code",
   "execution_count": 31,
   "metadata": {},
   "outputs": [
    {
     "name": "stdout",
     "output_type": "stream",
     "text": [
      "     pcost       dcost       gap    pres   dres   k/t\n",
      " 0: -2.5165e+01 -7.1868e+02  1e+03  9e-01  1e+01  1e+00\n",
      " 1: -1.9396e+01 -1.4595e+02  2e+02  2e-01  3e+00  3e-01\n",
      " 2: -2.3102e+01 -6.4025e+01  4e+01  5e-02  8e-01  1e-01\n",
      " 3: -2.7338e+01 -4.0949e+01  1e+01  2e-02  3e-01  5e-02\n",
      " 4: -2.9053e+01 -3.2028e+01  2e+00  4e-03  6e-02  9e-03\n",
      " 5: -2.9439e+01 -3.0393e+01  7e-01  1e-03  2e-02  3e-03\n",
      " 6: -2.9607e+01 -2.9783e+01  1e-01  2e-04  4e-03  3e-04\n",
      " 7: -2.9652e+01 -2.9671e+01  1e-02  2e-05  4e-04  3e-05\n",
      " 8: -2.9656e+01 -2.9664e+01  6e-03  1e-05  2e-04  1e-05\n",
      " 9: -2.9658e+01 -2.9658e+01  7e-05  1e-07  2e-06  2e-07\n",
      "10: -2.9658e+01 -2.9658e+01  7e-07  1e-09  2e-08  2e-09\n",
      "Optimal solution found.\n"
     ]
    }
   ],
   "source": [
    "profit_opt = op(profit_OBJ, ineq1)\n",
    "profit_opt.solve()"
   ]
  },
  {
   "cell_type": "code",
   "execution_count": 32,
   "metadata": {},
   "outputs": [
    {
     "name": "stdout",
     "output_type": "stream",
     "text": [
      "     pcost       dcost       gap    pres   dres   k/t\n",
      " 0: -2.8545e-01 -5.8381e+02  1e+03  9e-01  6e+01  1e+00\n",
      " 1:  5.6075e-01 -1.1550e+02  2e+02  2e-01  1e+01  3e-01\n",
      " 2:  2.8296e-01 -1.3149e+01  1e+01  2e-02  1e+00  6e-02\n",
      " 3: -2.7216e-02 -2.9642e+00  2e+00  5e-03  3e-01  1e-02\n",
      " 4: -1.7160e-02 -2.3080e+00  2e+00  4e-03  2e-01  7e-03\n",
      " 5: -9.3348e-02 -8.4755e-01  5e-01  1e-03  8e-02  2e-03\n",
      " 6: -1.3362e-01 -4.0887e-01  2e-01  4e-04  3e-02  6e-04\n",
      " 7: -1.3374e-01 -1.5855e-01  2e-02  4e-05  3e-03  5e-05\n",
      " 8: -1.3477e-01 -1.3502e-01  2e-04  4e-07  3e-05  5e-07\n",
      " 9: -1.3478e-01 -1.3478e-01  2e-06  4e-09  3e-07  5e-09\n",
      "10: -1.3478e-01 -1.3478e-01  2e-08  4e-11  3e-09  5e-11\n",
      "Optimal solution found.\n"
     ]
    }
   ],
   "source": [
    "fairness_opt = op(fairness_OBJ, ineq2)\n",
    "fairness_opt.solve()"
   ]
  },
  {
   "cell_type": "code",
   "execution_count": 33,
   "metadata": {},
   "outputs": [],
   "source": [
    "profit_opt_value = -1 * profit_opt.objective.value()[0]\n",
    "fairness_opt_value = -1 * fairness_opt.objective.value()[0]"
   ]
  },
  {
   "cell_type": "code",
   "execution_count": 34,
   "metadata": {},
   "outputs": [],
   "source": [
    "x_v = E_v * np.asarray(x_f1.value).reshape(F_num)\n",
    "for v_idx in range(V_num):\n",
    "    if r_v[v_idx] != 0:\n",
    "        x_v[v_idx] = x_v[v_idx] / r_v[v_idx]\n",
    "x_v[np.where(x_v < 0.000001)] = 0\n",
    "#y_v = np.asarray(matrix(E_v) * matrix(np.asarray(x_f2.value))).reshape(3)\n",
    "y_v = E_v * np.asarray(x_f2.value).reshape(F_num)\n",
    "for v_idx in range(V_num):\n",
    "    if r_v[v_idx] != 0:\n",
    "        y_v[v_idx] = y_v[v_idx] / r_v[v_idx]\n",
    "y_v[np.where(y_v < 0.000001)] = 0"
   ]
  },
  {
   "cell_type": "code",
   "execution_count": 35,
   "metadata": {},
   "outputs": [],
   "source": [
    "num_loops = 500\n",
    "arrival_seqs = []\n",
    "np.random.seed(2)\n",
    "for i in range(num_loops):\n",
    "    arrival_seqs.append(np.random.choice(range(V_num),size = T,p = p_v))\n",
    "CRS = []"
   ]
  },
  {
   "cell_type": "code",
   "execution_count": 36,
   "metadata": {},
   "outputs": [],
   "source": [
    "def GKPS(z, delta_v):\n",
    "    Z = [0] * len(z)\n",
    "    z = np.array(z)\n",
    "    p = z / delta_v\n",
    "    if sum(p) <= 0.00001:\n",
    "        return Z\n",
    "    p = p / sum(p)\n",
    "    for i in range(delta_v):\n",
    "        sample_z_index = np.random.choice(np.arange(len(z)), size=1, p=p)[0]\n",
    "        Z[sample_z_index] = 1\n",
    "        p[sample_z_index] = 0\n",
    "        if sum(p) <= 0.00001:\n",
    "            break\n",
    "        else:\n",
    "            p = p / sum(p)\n",
    "    return Z"
   ]
  },
  {
   "cell_type": "code",
   "execution_count": 37,
   "metadata": {},
   "outputs": [],
   "source": [
    "def warmup(arrival_seq, alpha, beta):\n",
    "    B_u_temp = copy.deepcopy(B_u)\n",
    "    X_f = np.zeros(F_num)\n",
    "    for v_idx in arrival_seq:\n",
    "        process_idx = np.random.choice(range(3),size=1,p=[alpha,beta,1-alpha-beta])[0]\n",
    "        if process_idx <= 1:\n",
    "            if process_idx == 0: # run on x_f1\n",
    "                Z_v = GKPS(x_v[v_idx],Delta)\n",
    "            else: # run on x_f2\n",
    "                Z_v = GKPS(y_v[v_idx],Delta)\n",
    "            pi = np.where(E_v[v_idx] != 0)[0]\n",
    "            np.random.shuffle(pi)\n",
    "            for f_idx in pi:\n",
    "                if Z_v[f_idx] == 1 and B_u_temp[index_to_coordinate(f_idx,F)[0]] > 0:\n",
    "                    temp_p = np.random.random()\n",
    "                    if temp_p <= p_f[f_idx]:\n",
    "                        B_u_temp[index_to_coordinate(f_idx,F)[0]] -= 1\n",
    "                        X_f[f_idx] += 1\n",
    "    return X_f, np.sum(X_f * w_f), min(matrix(E_u_D2) * matrix(X_f.reshape(F_num)))\n",
    "# return X_f, np.sum(X_f * w_f), min(matrix(E_u_D2) * matrix(X_f.reshape(F_num)))"
   ]
  },
  {
   "cell_type": "code",
   "execution_count": 38,
   "metadata": {},
   "outputs": [],
   "source": [
    "alphas, betas = np.arange(0., 1.01, 0.1), 1 - np.arange(0.,1.01,0.1)\n",
    "WARMUP_results = []\n",
    "for k in range(len(alphas)):\n",
    "    WARMUP_params = []\n",
    "    for i in range(num_loops):\n",
    "        WARMUP_params.append([arrival_seqs[i], alphas[k], betas[k]])\n",
    "\n",
    "    with Pool(multiprocessing.cpu_count()) as p:\n",
    "        tempresult = p.starmap(warmup, WARMUP_params)\n",
    "    WARMUP_results.append(tempresult)\n",
    "\n",
    "WARMUP_avg_results = np.average(WARMUP_results, axis=1)\n",
    "WARMUP_var_results = np.var(WARMUP_results, axis=1)"
   ]
  },
  {
   "cell_type": "code",
   "execution_count": 41,
   "metadata": {},
   "outputs": [],
   "source": [
    "fairness_crs,profit_crs,profit_errors,fairness_errors = [],[],[],[]\n",
    "\n",
    "for k in range(len(alphas)):\n",
    "    fairness_crs.append(min(matrix(E_u_D2) * matrix(WARMUP_avg_results[k][0].reshape(F_num))) / fairness_opt_value)\n",
    "    profit_crs.append(WARMUP_avg_results[k][1] / profit_opt_value)\n",
    "    profit_errors.append(WARMUP_var_results[k][1] / profit_opt_value)\n",
    "    fairness_errors.append(WARMUP_var_results[k][2] / fairness_opt_value)"
   ]
  },
  {
   "cell_type": "code",
   "execution_count": 54,
   "metadata": {},
   "outputs": [
    {
     "data": {
      "image/png": "[encoded data removed]",
      "text/plain": [
       "<Figure size 432x288 with 1 Axes>"
      ]
     },
     "metadata": {
      "needs_background": "light"
     },
     "output_type": "display_data"
    }
   ],
   "source": [
    "# plt.plot(alphas, fairness_crs)\n",
    "# plt.plot(alphas, [x * (1-1/np.e) / 2 for x in 1-alphas], linestyle=':')\n",
    "# plt.plot(alphas, profit_crs)\n",
    "# plt.plot(alphas, [x * (1-1/np.e) / 2 for x in alphas], linestyle=':')\n",
    "\n",
    "# plt.show()\n",
    "fig = plt.figure()\n",
    "ax = fig.add_subplot(111)\n",
    "ax.set_xlabel(r'$\\alpha$')\n",
    "ax.set_ylabel('Competitive Ratios')\n",
    "ax.set_xticklabels([\"{:.1f}\".format(x) for x in alphas])\n",
    "ax.set_xticks(alphas)\n",
    "colors = ['red', 'red', 'blue', 'blue']\n",
    "labels = ['WarmUp (fairness)', 'Lower Bound (fairness)', 'WarmUp (profit)', 'Lower Bound (profit)']\n",
    "linestyles = ['-', '--', '-', '--']\n",
    "\n",
    "lines = [fairness_crs, [x * (1-1/np.e) / 2 for x in 1-alphas], profit_crs, [x * (1-1/np.e) / 2 for x in alphas]]\n",
    "errors = [fairness_errors, [0 for x in alphas], profit_errors, [0 for x in alphas]]\n",
    "for i in range(len(lines)):\n",
    "    ax.errorbar(alphas, lines[i], yerr=errors[i], color=colors[i], label=labels[i], linestyle=linestyles[i], marker='o')\n",
    "box = ax.get_position()\n",
    "ax.legend(loc='best', fontsize='medium')\n",
    "fig.savefig('plots/{}.pdf'.format(filename), bbox_inches='tight')\n",
    "plt.show()\n",
    "plt.close()"
   ]
  },
  {
   "cell_type": "code",
   "execution_count": 87,
   "metadata": {},
   "outputs": [],
   "source": [
    "def greedy_p(arrival_seq):\n",
    "    B_u_temp = copy.deepcopy(B_u)\n",
    "    X_f = np.zeros(F_num)\n",
    "    for v_idx in arrival_seq:\n",
    "        nei_us = np.where(F[:,v_idx] != 0)[0]\n",
    "        max_p_u_idx = -1\n",
    "        max_p = -1\n",
    "        for u_idx in nei_us:\n",
    "            if B_u_temp[u_idx] > 0:\n",
    "                f_idx = coordinate_to_index(u_idx, v_idx, F)\n",
    "                current_p = w_f[f_idx] * p_f[f_idx]\n",
    "                if current_p > max_p:\n",
    "                    max_p_u_idx = u_idx\n",
    "                    max_p = current_p\n",
    "        if max_p_u_idx != -1:\n",
    "            f_idx = coordinate_to_index(max_p_u_idx, v_idx, F)\n",
    "            for i in range(Delta):\n",
    "                temp_p = np.random.random()\n",
    "                if temp_p <= p_f[f_idx]:\n",
    "                    B_u_temp[max_p_u_idx] -= 1\n",
    "                    X_f[f_idx] += 1\n",
    "                    break\n",
    "    return X_f, np.sum(X_f * w_f)"
   ]
  },
  {
   "cell_type": "code",
   "execution_count": 88,
   "metadata": {},
   "outputs": [],
   "source": [
    "def greedy_f(arrival_seq):\n",
    "    B_u_temp = copy.deepcopy(B_u)\n",
    "    X_f = np.zeros(F_num)\n",
    "    for v_idx in arrival_seq:\n",
    "        nei_us = np.where(F[:,v_idx] != 0)[0]\n",
    "        min_f_u_idx = -1\n",
    "        min_f = 2\n",
    "        for u_idx in nei_us:\n",
    "            if B_u_temp[u_idx] > 0:\n",
    "                f_idx = coordinate_to_index(u_idx, v_idx, F)\n",
    "                current_f = 1 - B_u_temp[u_idx] / B_u[u_idx]\n",
    "                if current_f < min_f:\n",
    "                    min_f_u_idx = u_idx\n",
    "                    min_f = current_f\n",
    "        if min_f_u_idx != -1:\n",
    "            f_idx = coordinate_to_index(min_f_u_idx, v_idx, F)\n",
    "            for i in range(Delta):\n",
    "                temp_p = np.random.random()\n",
    "                if temp_p <= p_f[f_idx]:\n",
    "                    B_u_temp[min_f_u_idx] -= 1\n",
    "                    X_f[f_idx] += 1\n",
    "                    break\n",
    "    return X_f, np.sum(X_f * w_f)\n",
    "#     return X_f, np.sum(X_f * w_f), min(matrix(E_u_D2) * matrix(X_f.reshape(F_num)))"
   ]
  },
  {
   "cell_type": "code",
   "execution_count": 89,
   "metadata": {},
   "outputs": [],
   "source": [
    "GreedyP_params = []\n",
    "GreedyP_results = []\n",
    "for i in range(num_loops):\n",
    "    GreedyP_params.append([arrival_seqs[i]])\n",
    "\n",
    "with Pool(multiprocessing.cpu_count()) as p:\n",
    "    GreedyP_results = p.starmap(greedy_p, GreedyP_params)\n",
    "GreedyP_avg_results = np.average(GreedyP_results, axis=0)\n",
    "greedy_p_profit_cr = GreedyP_avg_results[1] / profit_opt_value\n",
    "greedy_p_fairness_cr = min(matrix(E_u_D2) * matrix(GreedyP_avg_results[0].reshape(F_num))) / fairness_opt_value"
   ]
  },
  {
   "cell_type": "code",
   "execution_count": 107,
   "metadata": {},
   "outputs": [],
   "source": [
    "GreedyF_params = []\n",
    "GreedyF_results = []\n",
    "for i in range(num_loops):\n",
    "    GreedyF_params.append([arrival_seqs[i]])\n",
    "\n",
    "with Pool(multiprocessing.cpu_count()) as p:\n",
    "    GreedyF_results = p.starmap(greedy_f, GreedyF_params)\n",
    "GreedyF_avg_results = np.average(GreedyF_results, axis=0)\n",
    "greedy_f_profit_cr = GreedyF_avg_results[1] / profit_opt_value\n",
    "greedy_f_fairness_cr = min(matrix(E_u_D2) * matrix(GreedyF_avg_results[0].reshape(F_num))) / fairness_opt_value"
   ]
  },
  {
   "cell_type": "code",
   "execution_count": 122,
   "metadata": {},
   "outputs": [],
   "source": [
    "run helper.ipynb"
   ]
  },
  {
   "cell_type": "code",
   "execution_count": 124,
   "metadata": {},
   "outputs": [
    {
     "data": {
      "image/png": "[encoded data removed]",
      "text/plain": [
       "<Figure size 432x288 with 1 Axes>"
      ]
     },
     "metadata": {
      "needs_background": "light"
     },
     "output_type": "display_data"
    }
   ],
   "source": [
    "all_x_vals = [fairness_crs , [greedy_p_fairness_cr], [greedy_f_fairness_cr]]\n",
    "all_y_vals = [profit_crs, [greedy_p_profit_cr], [greedy_f_profit_cr]]\n",
    "labels = [r'$WarmUp (\\alpha, \\beta)$', 'Greedy_P', 'Greedy_F']\n",
    "# annotations = ['({:.1f}, {:.1f})'.format(alphas[i], 1-alphas[i]) for i in range(len(alphas))] + ['', '']\n",
    "annotations = ['({:.1f}, {:.1f})'.format(alphas[i], 1-alphas[i]) if alphas[i] == 0.0 or alphas[i] == 1.0 or \\\n",
    "               i == np.argmin(fairness_crs) or i == np.argmax(fairness_crs) or i == np.argmin(profit_crs) or \\\n",
    "               i == np.argmax(profit_crs) else '' for i in range(len(alphas))] + ['', '']\n",
    "annotation_positions = [(fairness_crs[i], \n",
    "                         profit_crs[i]) for i in range(len(alphas))]\n",
    "# print(annotation_positions)\n",
    "colors = ['blue', 'red', 'green']\n",
    "shapes = ['o', 'X', 'D']\n",
    "plot_scatter(all_x_vals, all_y_vals, colors, shapes, annotations, annotation_positions,\n",
    "             r'$B_u = {}; \\Delta_v = {}$'.format(B_u_max,Delta), \n",
    "             'Fairness CR', 'Profit CR', 'plots', 'syn_fairness_vs_profit_cr_scatter_{}'.format(filename),\n",
    "            labels=labels, fmt='pdf', separate_legend=False)"
   ]
  },
  {
   "cell_type": "code",
   "execution_count": null,
   "metadata": {},
   "outputs": [],
   "source": []
  }
 ],
 "metadata": {
  "kernelspec": {
   "display_name": "Python 3",
   "language": "python",
   "name": "python3"
  },
  "language_info": {
   "codemirror_mode": {
    "name": "ipython",
    "version": 3
   },
   "file_extension": ".py",
   "mimetype": "text/x-python",
   "name": "python",
   "nbconvert_exporter": "python",
   "pygments_lexer": "ipython3",
   "version": "3.6.8"
  }
 },
 "nbformat": 4,
 "nbformat_minor": 2
}
